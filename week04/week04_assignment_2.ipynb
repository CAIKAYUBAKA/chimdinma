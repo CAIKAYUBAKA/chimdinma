{
  "cells": [
    {
      "cell_type": "markdown",
      "metadata": {
        "id": "view-in-github",
        "colab_type": "text"
      },
      "source": [
        "<a href=\"https://colab.research.google.com/github/CAIKAYUBAKA/hds5210-2023/blob/main/week04/week04_assignment_2.ipynb\" target=\"_parent\"><img src=\"https://colab.research.google.com/assets/colab-badge.svg\" alt=\"Open In Colab\"/></a>"
      ]
    },
    {
      "cell_type": "markdown",
      "metadata": {
        "nbgrader": {
          "grade": false,
          "grade_id": "intro",
          "locked": true,
          "schema_version": 1,
          "solution": false
        },
        "id": "VbEzss_rmh8e"
      },
      "source": [
        "# Week 4 Exercises\n",
        "\n",
        "See: _McKinney 3.1_ and [Python Documentation](https://docs.python.org/3/tutorial/datastructures.html) section 5 on data structures.\n",
        "\n",
        "Modules 13 through 15 have all been about different built-in data types that can be used to create larger and more complex data structures.  We learned about tuples, lists, dictionaries, and how to access and process that data in new ways.\n",
        "\n",
        "**At the begining of the semester, all of the workshop programming exercises will be structured a specific way to make it easier to verify for yourself that you're on the right track as well as easier for me to do a first pass on automated grading.  The structure of each question will require you to write a function using Python code. Don't worry that we haven't talked about functions yet. Just edit the code between** `### BEGIN SOLUTION` and `### END SOLUTION` **as shown in the example below.**\n"
      ]
    },
    {
      "cell_type": "markdown",
      "metadata": {
        "id": "I8dN3on7mh8f"
      },
      "source": [
        "**WHAT I PROVIDE:**\n",
        "```\n",
        "def some_function(parameter1, parameter2):\n",
        "\n",
        "   ### BEGIN SOLUTION\n",
        "   x = -1\n",
        "   ### END SOLUTION\n",
        "   \n",
        "   return x\n",
        "```\n",
        "\n",
        "**WHAT YOU SHOULD DO:** Just change the parameter names (if you feel you need to) and the calculations between `### BEGIN SOLUTION` and `### END SOLUTION`.  This is just a made up example.\n",
        "```\n",
        "def some_function(a, b):\n",
        "\n",
        "   ### BEGIN SOLUTION\n",
        "   temp = a + b\n",
        "   x = temp / a * b\n",
        "   ### END SOLUTION\n",
        "   \n",
        "   return x\n",
        "```\n"
      ]
    },
    {
      "cell_type": "markdown",
      "metadata": {
        "id": "_nmmoUsUmh8g"
      },
      "source": [
        "---\n",
        "---\n",
        "\n",
        "**Below each programming exercise are some tests (`assertions`) that verify your code is working correctly.  If any assertions fail, you know that something isnt' right with your code, but having all assertions pass doesn't necessarily mean your code is perfect, yet. You should also create your own tests to make sure your code is correct.**\n",
        "\n",
        "**For now, please don't change any function names**"
      ]
    },
    {
      "cell_type": "markdown",
      "metadata": {
        "id": "zQvpJNhImh8g"
      },
      "source": [
        "### 20.1 Create a sorted list of names\n",
        "\n",
        "Take the list of names below (some are first and last, others are first, middle, and last) and produce a final list of full names.\n",
        "\n",
        "```\n",
        "sort_names([\n",
        "  ['Paul', 'Boal'],\n",
        "  ['Kermit','the','Frog'],\n",
        "  ['Donald','Duck']])\n",
        "\n",
        "['Paul Boal', 'Donald Duck', 'Kermit the Frog']\n",
        "```"
      ]
    },
    {
      "cell_type": "markdown",
      "metadata": {
        "id": "ib7cadw-mh8g"
      },
      "source": [
        "**Tip:** If you have a list of lists and want to sort it, Python can do that. It will simply sort using the first item in each of the lists inside your list."
      ]
    },
    {
      "cell_type": "code",
      "execution_count": 21,
      "metadata": {
        "id": "D73UaKyemh8g"
      },
      "outputs": [],
      "source": [
        "names = [['Paul', 'Boal'],\n",
        "  ['Kermit','the','Frog'],\n",
        "  ['Donald','Duck']]"
      ]
    },
    {
      "cell_type": "code",
      "execution_count": 22,
      "metadata": {
        "id": "8bF5b4Hnmh8g",
        "outputId": "57c303ba-7a12-4705-90e7-8cf02b574e33",
        "colab": {
          "base_uri": "https://localhost:8080/"
        }
      },
      "outputs": [
        {
          "output_type": "stream",
          "name": "stdout",
          "text": [
            "['Donald Duck', 'Kermit the Frog', 'Paul Boal']\n"
          ]
        }
      ],
      "source": [
        "def sort_names(names):\n",
        "    def process_name(name):\n",
        "        if len(name) == 2:\n",
        "            return f'{name[0]} {name[1]}'\n",
        "        else:\n",
        "            return f'{name[0]} {name[1]} {name[2]}'\n",
        "\n",
        "    sorted_names = sorted(names, key=lambda x: process_name(x))\n",
        "    return [process_name(name) for name in sorted_names]\n",
        "\n",
        "# Input list of names\n",
        "names = [\n",
        "  ['Paul', 'Boal'],\n",
        "  ['Kermit','the','Frog'],\n",
        "  ['Donald','Duck']\n",
        "]\n",
        "\n",
        "# Call the function\n",
        "sorted_names = sort_names(names)\n",
        "\n",
        "# Print the sorted names\n",
        "print(sorted_names)\n"
      ]
    },
    {
      "cell_type": "code",
      "execution_count": 23,
      "metadata": {
        "id": "EXBt6ghYmh8h",
        "outputId": "60438627-5935-4854-b4b3-6d065cfc43e7",
        "colab": {
          "base_uri": "https://localhost:8080/"
        }
      },
      "outputs": [
        {
          "output_type": "execute_result",
          "data": {
            "text/plain": [
              "['Paul Boal', 'Donald Duck', 'Kermit the Frog']"
            ]
          },
          "metadata": {},
          "execution_count": 23
        }
      ],
      "source": [
        "['Paul Boal', 'Donald Duck', 'Kermit the Frog']\n",
        "\n",
        "\n"
      ]
    },
    {
      "cell_type": "markdown",
      "metadata": {
        "id": "oIdQ8gV0mh8h"
      },
      "source": [
        "### 20.2 Convert a dictionary to a list\n",
        "\n",
        "In this exercise, we're going to take a dictionary that has families and their names, and convert that into a list of names.  The dictionary is structured such that the key is the family name, and the value for that key is a list of first names.\n",
        "\n",
        "```\n",
        "{\n",
        "  'Boal': ['Paul', 'Anny', 'Jim'],\n",
        "  'Lester-Boal': ['Ellie', 'Ada', 'Teddy'],\n",
        "  'Lester': ['Sarahlynn', 'Jessica', 'Grace', 'Carolynn']\n",
        "}\n",
        "\n",
        "[['Boal', 'Paul'],\n",
        " ['Boal', 'Anny'],\n",
        " ['Boal', 'Jim'],\n",
        " ['Lester-Boal', 'Elliie'],\n",
        " ['Lester-Boal', 'Ada'],\n",
        " ...\n",
        "```"
      ]
    },
    {
      "cell_type": "code",
      "execution_count": 24,
      "metadata": {
        "id": "3aWbhh7Fmh8h",
        "outputId": "2bf466a7-00a3-4554-f5e9-79b60521e01f",
        "colab": {
          "base_uri": "https://localhost:8080/"
        }
      },
      "outputs": [
        {
          "output_type": "stream",
          "name": "stdout",
          "text": [
            "[['Boal', 'Paul'], ['Boal', 'Anny'], ['Boal', 'Jim'], ['Lester-Boal', 'Ellie'], ['Lester-Boal', 'Ada'], ['Lester-Boal', 'Teddy'], ['Lester', 'Sarahlynn'], ['Lester', 'Jessica'], ['Lester', 'Grace'], ['Lester', 'Carolynn']]\n"
          ]
        }
      ],
      "source": [
        "def dict_to_list(families):\n",
        "    output = []\n",
        "    for family, names in families.items():\n",
        "        for name in names:\n",
        "            output.append([family, name])\n",
        "    return output\n",
        "\n",
        "families = {\n",
        "  'Boal': ['Paul', 'Anny', 'Jim'],\n",
        "  'Lester-Boal': ['Ellie', 'Ada', 'Teddy'],\n",
        "  'Lester': ['Sarahlynn', 'Jessica', 'Grace', 'Carolynn']\n",
        "}\n",
        "\n",
        "result = dict_to_list(families)\n",
        "print(result)\n",
        "\n",
        "\n"
      ]
    },
    {
      "cell_type": "markdown",
      "metadata": {
        "nbgrader": {
          "grade": false,
          "grade_id": "average",
          "locked": true,
          "schema_version": 1,
          "solution": false
        },
        "id": "_sTc5ZPDmh8h"
      },
      "source": [
        "### 20.3 Convert a list to a dictionary\n",
        "\n",
        "Take the list of lists below and convert it into a dictionary where the entries in the dictionary are keyed off of whatever values are in column 0, and the dictionary values are the list of all the values that appear with that key from the input list."
      ]
    },
    {
      "cell_type": "code",
      "execution_count": 25,
      "metadata": {
        "nbgrader": {
          "grade": false,
          "grade_id": "average-answer",
          "locked": false,
          "schema_version": 1,
          "solution": true
        },
        "id": "FZVSmiXhmh8h",
        "outputId": "c59d3fa5-e4da-4bc0-a9d9-e713c9aeb046",
        "colab": {
          "base_uri": "https://localhost:8080/"
        }
      },
      "outputs": [
        {
          "output_type": "execute_result",
          "data": {
            "text/plain": [
              "[['Boal', 'Paul'],\n",
              " ['Boal', 'Anny'],\n",
              " ['Boal', 'Jim'],\n",
              " ['Lester-Boal', 'Ellie'],\n",
              " ['Lester-Boal', 'Ada'],\n",
              " ['Lester-Boal', 'Teddy'],\n",
              " ['Lester', 'Sarahlynn'],\n",
              " ['Lester', 'Jessica'],\n",
              " ['Lester', 'Grace'],\n",
              " ['Lester', 'Carolynn']]"
            ]
          },
          "metadata": {},
          "execution_count": 25
        }
      ],
      "source": [
        "[['Boal', 'Paul'],\n",
        " ['Boal', 'Anny'],\n",
        " ['Boal', 'Jim'],\n",
        " ['Lester-Boal', 'Ellie'],\n",
        " ['Lester-Boal', 'Ada'],\n",
        " ['Lester-Boal', 'Teddy'],\n",
        " ['Lester', 'Sarahlynn'],\n",
        " ['Lester', 'Jessica'],\n",
        " ['Lester', 'Grace'],\n",
        " ['Lester', 'Carolynn']]\n",
        "\n",
        "\n",
        "\n"
      ]
    },
    {
      "cell_type": "code",
      "execution_count": 26,
      "metadata": {
        "id": "SdfBXmcgmh8h",
        "outputId": "a745456d-2097-4162-f246-3f99df3d43d2",
        "colab": {
          "base_uri": "https://localhost:8080/"
        }
      },
      "outputs": [
        {
          "output_type": "stream",
          "name": "stdout",
          "text": [
            "{'Boal': ['Paul', 'Ada', 'Teddy'], 'Duck': ['Donald', 'Daisy'], 'Westhus': ['Eric']}\n"
          ]
        }
      ],
      "source": [
        "def list_to_dict():\n",
        "    names = [['Boal', 'Paul'],\n",
        "             ['Duck', 'Donald'],\n",
        "             ['Duck', 'Daisy'],\n",
        "             ['Boal', 'Ada'],\n",
        "             ['Boal', 'Teddy'],\n",
        "             ['Westhus', 'Eric']]\n",
        "\n",
        "    families = {}\n",
        "\n",
        "    for entry in names:\n",
        "        key = entry[0]\n",
        "        value = entry[1]\n",
        "        if key not in families:\n",
        "            families[key] = [value]\n",
        "        else:\n",
        "            families[key].append(value)\n",
        "\n",
        "    return families\n",
        "\n",
        "# Call the function\n",
        "result = list_to_dict()\n",
        "\n",
        "# Print the resulting dictionary\n",
        "print(result)\n"
      ]
    },
    {
      "cell_type": "markdown",
      "metadata": {
        "id": "CUeMJiPOmh8i"
      },
      "source": [
        "### 20.4 Join using a dictionary\n",
        "\n",
        "We have a list of patients, diagnosis, and length of stay.  We also have a dictionary that contains diagnosis and average length of stay.  Produce an output list that lists the patient and an indicator if the patient's stay was 'too long', 'too short', 'just right'"
      ]
    },
    {
      "cell_type": "code",
      "execution_count": 27,
      "metadata": {
        "nbgrader": {
          "grade": false,
          "grade_id": "cell-f3813e33810dc898",
          "locked": false,
          "schema_version": 1,
          "solution": true
        },
        "id": "f6Cao10Xmh8i",
        "outputId": "1def27a7-564d-4812-99df-d0c26833c623",
        "colab": {
          "base_uri": "https://localhost:8080/"
        }
      },
      "outputs": [
        {
          "output_type": "stream",
          "name": "stdout",
          "text": [
            "[('Boal', 'too short'), ('Boal', 'too long'), ('Jones', 'just right'), ('Ashbury', 'too short')]\n"
          ]
        }
      ],
      "source": [
        "def patient_los(avg_los, patients):\n",
        "    conclusions = []\n",
        "\n",
        "    for patient in patients:\n",
        "        patient_name, diagnosis, length_of_stay = patient\n",
        "        avg_los_for_diagnosis = avg_los.get(diagnosis, None)\n",
        "\n",
        "        if avg_los_for_diagnosis is not None:\n",
        "            if length_of_stay > avg_los_for_diagnosis:\n",
        "                conclusion = 'too long'\n",
        "            elif length_of_stay < avg_los_for_diagnosis:\n",
        "                conclusion = 'too short'\n",
        "            else:\n",
        "                conclusion = 'just right'\n",
        "        else:\n",
        "            conclusion = 'unknown diagnosis'\n",
        "\n",
        "        conclusions.append((patient_name, conclusion))\n",
        "\n",
        "    return conclusions\n",
        "\n",
        "avg_los = {\n",
        "    \"Hemolytic jaundice and perinatal jaundice\" : 2,\n",
        "    \"Medical examination/evaluation\" : 3.2,\n",
        "    \"Liveborn\" : 3.2,\n",
        "    \"Trauma to perineum and vulva\" : 2.1,\n",
        "    \"Normal pregnancy and/or delivery\" : 2,\n",
        "    \"Umbilical cord complication\" : 2.1,\n",
        "    \"Forceps delivery\" : 2.2,\n",
        "    \"Administrative/social admission\" : 4.2,\n",
        "    \"Prolonged pregnancy\" : 2.4,\n",
        "    \"Other complications of pregnancy\" : 2.5\n",
        "}\n",
        "\n",
        "patients = [\n",
        "    ['Boal', 'Medical examination/evaluation', 1.1],\n",
        "    ['Boal', 'Other complications of pregnancy', 3.3],\n",
        "    ['Jones', 'Liveborn', 3.2],\n",
        "    ['Ashbury', 'Forceps delivery', 2.0]\n",
        "]\n",
        "\n",
        "result = patient_los(avg_los, patients)\n",
        "print(result)\n"
      ]
    },
    {
      "cell_type": "code",
      "execution_count": 28,
      "metadata": {
        "id": "OvLSVgo1mh8i",
        "outputId": "aaea37d6-d965-4fbb-c254-c2b176fac3c6",
        "colab": {
          "base_uri": "https://localhost:8080/"
        }
      },
      "outputs": [
        {
          "output_type": "stream",
          "name": "stdout",
          "text": [
            "[('Boal', 'too short'), ('Boal', 'too long'), ('Jones', 'just right'), ('Ashbury', 'too short')]\n"
          ]
        },
        {
          "output_type": "execute_result",
          "data": {
            "text/plain": [
              "[('Boal', 'too short'),\n",
              " ('Boal', 'too long'),\n",
              " ('Jones', 'just right'),\n",
              " ('Ashbury', 'too short')]"
            ]
          },
          "metadata": {},
          "execution_count": 28
        }
      ],
      "source": [
        "def patient_los(avg_los, patients):\n",
        "    conclusions = []\n",
        "\n",
        "    for patient in patients:\n",
        "        patient_name, diagnosis, length_of_stay = patient\n",
        "        avg_los_for_diagnosis = avg_los.get(diagnosis, None)\n",
        "\n",
        "        if avg_los_for_diagnosis is not None:\n",
        "            if length_of_stay > avg_los_for_diagnosis:\n",
        "                conclusion = 'too long'\n",
        "            elif length_of_stay < avg_los_for_diagnosis:\n",
        "                conclusion = 'too short'\n",
        "            else:\n",
        "                conclusion = 'just right'\n",
        "        else:\n",
        "            conclusion = 'unknown diagnosis'\n",
        "\n",
        "        conclusions.append((patient_name, conclusion))\n",
        "\n",
        "    return conclusions\n",
        "\n",
        "avg_los = {\n",
        "    \"Hemolytic jaundice and perinatal jaundice\" : 2,\n",
        "    \"Medical examination/evaluation\" : 3.2,\n",
        "    \"Liveborn\" : 3.2,\n",
        "    \"Trauma to perineum and vulva\" : 2.1,\n",
        "    \"Normal pregnancy and/or delivery\" : 2,\n",
        "    \"Umbilical cord complication\" : 2.1,\n",
        "    \"Forceps delivery\" : 2.2,\n",
        "    \"Administrative/social admission\" : 4.2,\n",
        "    \"Prolonged pregnancy\" : 2.4,\n",
        "    \"Other complications of pregnancy\" : 2.5\n",
        "}\n",
        "\n",
        "patients = [\n",
        "    ['Boal', 'Medical examination/evaluation', 1.1],\n",
        "    ['Boal', 'Other complications of pregnancy', 3.3],\n",
        "    ['Jones', 'Liveborn', 3.2],\n",
        "    ['Ashbury', 'Forceps delivery', 2.0]\n",
        "]\n",
        "\n",
        "result = patient_los(avg_los, patients)\n",
        "print(result)\n",
        "\n",
        "patient_los(avg_los, patients)"
      ]
    },
    {
      "cell_type": "code",
      "execution_count": 29,
      "metadata": {
        "id": "2vTnJv8gmh8i",
        "outputId": "a817a236-e90a-46e7-de30-d58baa36f030",
        "colab": {
          "base_uri": "https://localhost:8080/"
        }
      },
      "outputs": [
        {
          "output_type": "execute_result",
          "data": {
            "text/plain": [
              "[('Boal', 'too short'),\n",
              " ('Boal', 'too long'),\n",
              " ('Jones', 'just right'),\n",
              " ('Ashbury', 'too short')]"
            ]
          },
          "metadata": {},
          "execution_count": 29
        }
      ],
      "source": [
        "[('Boal', 'too short'),  ('Boal', 'too long'),  ('Jones', 'just right'),  ('Ashbury', 'too short')]\n"
      ]
    },
    {
      "cell_type": "markdown",
      "metadata": {
        "id": "sqE8gaqrmh8i"
      },
      "source": [
        "---\n",
        "\n",
        "## Check your work above\n",
        "\n",
        "If you didn't get them all correct, take a few minutes to think through those that aren't correct.\n",
        "\n",
        "\n",
        "## Submitting Your Work\n",
        "\n",
        "In order to submit your work, you'll need to save this notebook file back to GitHub.  To do that in Google Colab:\n",
        "1. File -> Save a Copy in GitHub\n",
        "2. Make sure your HDS5210 repository is selected\n",
        "3. Make sure the file name includes the week number like this: `week04/week04_assignment_2.ipynb`\n",
        "4. Add a commit message that means something\n",
        "\n",
        "**Be sure week names are lowercase and use a two digit week number!!**\n",
        "\n",
        "**Be sure you use the same file name provided by the instructor!!**\n",
        "\n"
      ]
    },
    {
      "cell_type": "markdown",
      "metadata": {
        "id": "Zu0KCskbmh8i"
      },
      "source": []
    }
  ],
  "metadata": {
    "celltoolbar": "Create Assignment",
    "kernelspec": {
      "display_name": "Python 3",
      "language": "python",
      "name": "python3"
    },
    "language_info": {
      "codemirror_mode": {
        "name": "ipython",
        "version": 3
      },
      "file_extension": ".py",
      "mimetype": "text/x-python",
      "name": "python",
      "nbconvert_exporter": "python",
      "pygments_lexer": "ipython3",
      "version": "3.6.7"
    },
    "colab": {
      "provenance": [],
      "include_colab_link": true
    }
  },
  "nbformat": 4,
  "nbformat_minor": 0
}