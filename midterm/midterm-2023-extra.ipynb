{
  "cells": [
    {
      "cell_type": "markdown",
      "metadata": {
        "id": "LKDa5ntIFwPs"
      },
      "source": [
        "# Extra Credit\n",
        "\n",
        "For upto an additional 15 extra credit points on the midterm exam, you can write another function that applies additional criteria on top of what the midterm already did.  To earn the addition points, you need write a function called `summarize_results(patients)` to take the output of your  `process_people()` function to apply a new business rule and summarize the results.\n",
        "\n",
        "* Your function should take the dictionary created by `process_people()` as it's one input parameter: `patients`.\n",
        "* If the PRIEST probably is less than 10%, change the `hospital` and `address` to both have a value of `'Home'` indicating patients with a lower probability of an adverse outcome can just go home rather than be admitted to a hospital.\n",
        "* Summarize those results and count how many patients are now being sent to each location.  Your result should have the following format:\n",
        "```\n",
        "{\n",
        "    \"Home\": 123,\n",
        "    \"Hospital A\": 10,\n",
        "    \"Hospital B\": 20,\n",
        "    \"Hospital C\": 30\n",
        "}\n",
        "```\n",
        "\n",
        "As always, your function needs good docstrings; but does not require any doctests in this case."
      ]
    },
    {
      "cell_type": "code",
      "execution_count": 1,
      "metadata": {
        "id": "vzVRythBFwPw"
      },
      "outputs": [],
      "source": [
        "def summarize_results(patients):\n",
        "    \"\"\" This function will summarize the results of processed patients and count how many patients are being sent to each location.\n",
        "    Returns:\n",
        "        dict: A summary of patients sent to each location.\n",
        "    \"\"\"\n",
        "    location_counts = {}\n",
        "\n",
        "    for patient, location_info in patients.items():\n",
        "        hospital = location_info['hospital']\n",
        "        if hospital != 'Home':\n",
        "            if location_info.get('PRIEST_probability') < 0.1:\n",
        "                hospital = 'Home'\n",
        "        if hospital not in location_counts:\n",
        "            location_counts[hospital] = 1\n",
        "        else:\n",
        "            location_counts[hospital] += 1\n",
        "\n",
        "    return location_counts\n",
        "\n",
        "\n",
        "\n"
      ]
    },
    {
      "cell_type": "code",
      "source": [
        "processed_patients = {\n",
        "    'Patient1': {'hospital':\n",
        "                 'Hospital A', 'address': '545 COOK STREET', 'PRIEST_probability': 0.05\n",
        "                 },\n",
        "    'Patient2': {'hospital':\n",
        "                 'Hospital B', 'address': '2500 SATILLA PARKWAY', 'PRIEST_probability': 0.15\n",
        "                 },\n",
        "    'Patient3': {'hospital':\n",
        "                 'Hospital C', 'address': '400 CEDAR ROAD', 'PRIEST_probability': 0.02\n",
        "                 },\n",
        "    'Patient4': {'hospital':\n",
        "                 'Home',\n",
        "                 'address':\n",
        "                 'Home',\n",
        "                 'PRIEST_probability': 0.08\n",
        "                 }\n",
        "}\n",
        "\n",
        "result = summarize_results(processed_patients)\n",
        "print(result)\n"
      ],
      "metadata": {
        "colab": {
          "base_uri": "https://localhost:8080/"
        },
        "id": "WvnHsE_mseZI",
        "outputId": "fddc22dd-21bc-4a9c-919b-ef6c2f1821c3"
      },
      "execution_count": 2,
      "outputs": [
        {
          "output_type": "stream",
          "name": "stdout",
          "text": [
            "{'Home': 3, 'Hospital B': 1}\n"
          ]
        }
      ]
    }
  ],
  "metadata": {
    "kernelspec": {
      "display_name": ".venv",
      "language": "python",
      "name": "python3"
    },
    "language_info": {
      "codemirror_mode": {
        "name": "ipython",
        "version": 3
      },
      "file_extension": ".py",
      "mimetype": "text/x-python",
      "name": "python",
      "nbconvert_exporter": "python",
      "pygments_lexer": "ipython3",
      "version": "3.9.16"
    },
    "colab": {
      "provenance": []
    }
  },
  "nbformat": 4,
  "nbformat_minor": 0
}