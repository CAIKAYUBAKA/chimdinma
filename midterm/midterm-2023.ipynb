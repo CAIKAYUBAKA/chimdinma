{
  "cells": [
    {
      "cell_type": "markdown",
      "metadata": {
        "id": "view-in-github",
        "colab_type": "text"
      },
      "source": [
        "<a href=\"https://colab.research.google.com/github/CAIKAYUBAKA/hds5210-2023/blob/main/midterm/midterm-2023.ipynb\" target=\"_parent\"><img src=\"https://colab.research.google.com/assets/colab-badge.svg\" alt=\"Open In Colab\"/></a>"
      ]
    },
    {
      "cell_type": "code",
      "source": [],
      "metadata": {
        "id": "vG0xPSbm3Cvv"
      },
      "execution_count": null,
      "outputs": []
    },
    {
      "cell_type": "markdown",
      "metadata": {
        "id": "NQuKOqBzFvzn"
      },
      "source": [
        "# HDS5210-2022 Midterm\n",
        "\n",
        "In the midterm, you're going to use all the programming and data management skills you've developed so far to build a risk calculator that pretends to be integrated with a clinical registry.  You'll compute the PRIEST COVID-19 Clinical Severity Score for a series of patients and, based on their risk of an adverse outcome, query a REST web service to find a hospital to transfer them to. The end result of your work will be a list of instructions on where each patient should be discharged given their risk and various characteristics of the patient.\n",
        "\n",
        "Each step in the midterm will build up to form your complete solution.\n",
        "\n",
        "**Make sure you write good docstrings and doctests along the way!!**\n",
        "\n",
        "**The midterm is due at 11:59 PM CST on Monday, October 23rd.**\n",
        "\n",
        "---"
      ]
    },
    {
      "cell_type": "markdown",
      "metadata": {
        "id": "nJegDcxgFvzp"
      },
      "source": [
        "## Step 1: Calculate PRIEST Clinical Severity Score\n",
        "\n",
        "This scoring algorithm can be found [here on the MDCalc website](https://www.mdcalc.com/priest-covid-19-clinical-severity-score#evidence).  \n",
        "\n",
        "1. You will need to write a function called **priest()** with the following input parameters.  \n",
        " * Sex (Gender assigned at birth)\n",
        " * Age in years\n",
        " * Respiratory rate in breaths per minute\n",
        " * Oxygen saturation as a percent between 0 and 1\n",
        " * Heart rate in beats per minute\n",
        " * Systolic BP in mmHg\n",
        " * Temperature in degrees C\n",
        " * Alertness as a string description\n",
        " * Inspired Oxygen as as string description\n",
        " * Performance Status as a string description\n",
        "2. The function will need to follow the algorithm provided on the MDCalc website to compute a risk percentage that should be returned as a numeric value between 0 and 1.\n",
        "3. Be sure to use docstring documentation and at least three built-in docstring test cases.\n",
        "4. Assume that the input values that are strings could be any combination of upper or lower case. For example: 'male', 'Male', 'MALE', 'MalE' should all be interpretted by your code as male.\n",
        "5. If any of the inputs are invalid (for example a sex value that is not recognizable as male or female) your code should return None.\n",
        "\n",
        "NOTES:\n",
        "1. In the final step there is a table that translates from **PRIEST Score** to **30-day probability of an outcome** but the last two probabilities are shown as ranges (59-88% and >99%).  Our code needs to output a single number, however. For our code, use the following rule:\n",
        " * If PRIEST score is between 17 and 25, the probability you return should be 0.59\n",
        " * If PRIEST score is greater than or equal to 26, the probability you return should be 0.99\n"
      ]
    },
    {
      "cell_type": "code",
      "execution_count": 1,
      "metadata": {
        "id": "5YQ-zU7LFvzp"
      },
      "outputs": [],
      "source": [
        "def priest(sex, age, respiratory_rate, oxygen_saturation, heart_rate, systolic_bp, temperature, alertness, inspired_oxygen, performance_status):\n",
        "    \"\"\"(str, int, int, float, int, int, float, str, str, str)-->int\n",
        "    This function calculates the PRIEST Clinical Severity Score and return the risk percentage.\n",
        "    Returns:\n",
        "        float or None: Risk percentage between 0 and 1. Returns None for invalid inputs.\n",
        "\n",
        ">>> priest('male', 30, 10, 0.96, 70, 120, 37.0, 'alert', 'air', 'unrestricted normal activity')\n",
        "0.59\n",
        ">>> priest('female', 70, 15, 0.91, 85, 140, 38.5, 'confused or not alert', 'supplemental oxygen', 'bed/chair bound, no self-care')\n",
        "0.99\n",
        ">>> priest('unknown', 50, 20, 0.94, 60, 100, 36.8, 'confused or not alert', 'supplemental oxygen', 'limited activity, can self-care')\n",
        "None\n",
        "\"\"\"\n",
        "\n",
        "    #sex to lowercase for case insensitivity\n",
        "    sex = sex.lower()\n",
        "\n",
        "    if sex not in ['male', 'female']:\n",
        "        return None\n",
        "\n",
        "    points = 0\n",
        "    if sex == 'male':\n",
        "        points += 1\n",
        "\n",
        "    if 50 <= age <= 65:\n",
        "        points += 2\n",
        "    elif 66 <= age <= 80:\n",
        "        points += 3\n",
        "    elif age > 80:\n",
        "        points += 4\n",
        "\n",
        "    if respiratory_rate < 9:\n",
        "        points += 3\n",
        "    elif 9 <= respiratory_rate <= 11:\n",
        "        points += 1\n",
        "    elif 21 <= respiratory_rate <= 24:\n",
        "        points += 2\n",
        "    elif respiratory_rate > 24:\n",
        "        points += 3\n",
        "\n",
        "    if 17 <= points <= 25:\n",
        "        return 0.59\n",
        "    elif points >= 26:\n",
        "        return 0.99\n",
        "    else:\n",
        "        return points / 100\n"
      ]
    },
    {
      "cell_type": "code",
      "source": [
        "print(priest('male', 30, 10, 0.96, 70, 120, 37.0, 'alert', 'air', 'unrestricted normal activity'))  # Output: 0.59\n",
        "print(priest('female', 70, 15, 0.91, 85, 140, 38.5, 'confused or not alert', 'supplemental oxygen', 'bed/chair bound, no self-care'))  # Output: 0.99\n",
        "print(priest('unknown', 50, 20, 0.94, 60, 100, 36.8, 'confused or not alert', 'supplemental oxygen', 'limited activity, can self-care'))  # Output: None"
      ],
      "metadata": {
        "id": "QXGCr8mUJ7bk",
        "outputId": "a38ca8f3-8556-4666-e78d-a37670dea671",
        "colab": {
          "base_uri": "https://localhost:8080/"
        }
      },
      "execution_count": 2,
      "outputs": [
        {
          "output_type": "stream",
          "name": "stdout",
          "text": [
            "0.02\n",
            "0.03\n",
            "None\n"
          ]
        }
      ]
    },
    {
      "cell_type": "code",
      "execution_count": 3,
      "metadata": {
        "id": "G3KIEUX1Fvzq",
        "outputId": "ae07519d-94bf-45cf-9894-7cb2dfe88d35",
        "colab": {
          "base_uri": "https://localhost:8080/"
        }
      },
      "outputs": [
        {
          "output_type": "stream",
          "name": "stderr",
          "text": [
            "\n",
            "PYDEV DEBUGGER WARNING:\n",
            "sys.settrace() should not be used when the debugger is being used.\n",
            "This may cause the debugger to stop working correctly.\n",
            "If this is needed, please check: \n",
            "http://pydev.blogspot.com/2007/06/why-cant-pydev-debugger-work-with.html\n",
            "to see how to restore the debug tracing back correctly.\n",
            "Call Location:\n",
            "  File \"/usr/lib/python3.10/doctest.py\", line 1501, in run\n",
            "    sys.settrace(save_trace)\n",
            "\n"
          ]
        },
        {
          "output_type": "stream",
          "name": "stdout",
          "text": [
            "Finding tests in NoName\n",
            "Trying:\n",
            "    priest('male', 30, 10, 0.96, 70, 120, 37.0, 'alert', 'air', 'unrestricted normal activity')\n",
            "Expecting:\n",
            "    0.59\n",
            "**********************************************************************\n",
            "File \"__main__\", line 7, in NoName\n",
            "Failed example:\n",
            "    priest('male', 30, 10, 0.96, 70, 120, 37.0, 'alert', 'air', 'unrestricted normal activity')\n",
            "Expected:\n",
            "    0.59\n",
            "Got:\n",
            "    0.02\n",
            "Trying:\n",
            "    priest('female', 70, 15, 0.91, 85, 140, 38.5, 'confused or not alert', 'supplemental oxygen', 'bed/chair bound, no self-care')\n",
            "Expecting:\n",
            "    0.99\n",
            "**********************************************************************\n",
            "File \"__main__\", line 9, in NoName\n",
            "Failed example:\n",
            "    priest('female', 70, 15, 0.91, 85, 140, 38.5, 'confused or not alert', 'supplemental oxygen', 'bed/chair bound, no self-care')\n",
            "Expected:\n",
            "    0.99\n",
            "Got:\n",
            "    0.03\n",
            "Trying:\n",
            "    priest('unknown', 50, 20, 0.94, 60, 100, 36.8, 'confused or not alert', 'supplemental oxygen', 'limited activity, can self-care')\n",
            "Expecting:\n",
            "    None\n",
            "**********************************************************************\n",
            "File \"__main__\", line 11, in NoName\n",
            "Failed example:\n",
            "    priest('unknown', 50, 20, 0.94, 60, 100, 36.8, 'confused or not alert', 'supplemental oxygen', 'limited activity, can self-care')\n",
            "Expected:\n",
            "    None\n",
            "Got nothing\n"
          ]
        }
      ],
      "source": [
        "import doctest\n",
        "doctest.run_docstring_examples(priest, globals(),verbose=True)"
      ]
    },
    {
      "cell_type": "markdown",
      "metadata": {
        "id": "WuxM4Oc7Fvzq"
      },
      "source": [
        "## Part 2: Find a hospital\n",
        "\n",
        "The next thing we have to do is figure out where to send this particular patient.  The guidelines on where to send a patient are based on their age (pediatric, adult, geriatric), sex, and risk percentage.  Luckily, you don't have to implement these rules. I already have. All you have to do is use a REST web service that I've created for you.\n",
        "\n",
        "You'll want to use Python to make a call to my REST web service similar to the example URL below. The first part of the URL will be the same for everyone and every request that you make. What you will need to modify for each of your requests is the information after the question mark.\n",
        "\n",
        "```\n",
        "https://oumdj6oci2.execute-api.us-east-1.amazonaws.com/prd/?age=40&sex=male&risk_pct=0.1\n",
        "```\n",
        "\n",
        "The example above asks my web service where a 40-year old male with a risk of 10% should go.  What the web service will return back is a JSON string containing the information you need.  That JSON will look like this:\n",
        "\n",
        "```json\n",
        "{\n",
        "  \"age\": \"40\",\n",
        "  \"sex\": \"male\",\n",
        "  \"risk\": \"0.1\",\n",
        "  \"hospital\": \"Southwest Hospital and Medical Center\"\n",
        "}\n",
        "```\n",
        "\n",
        "My function is not smart enough to understand `'MALE'` is the same as `'male'`.  You have to send it exactly `'male'` or `'female'`\n",
        "\n",
        "1. Your job is to write a function called **find_hospital()** that takes age, sex, and risk as parameters.\n",
        "2. Your function should call this REST web service using the `requests` module\n",
        "3. Then your function will need to interpret the JSON it gets and return just the name of the hospital\n",
        "4. If anything fails, return None\n",
        "5. Include a good docstring with at least three test cases.\n"
      ]
    },
    {
      "cell_type": "code",
      "execution_count": 4,
      "metadata": {
        "id": "DTqHYhtuFvzr"
      },
      "outputs": [],
      "source": [
        "import requests\n",
        "\n",
        "\n",
        "def find_hospital(age, sex, risk):\n",
        "    \"\"\" (int, str, float)\n",
        "    This function will find the appropriate hospital based on age, sex, and risk percentage.\n",
        "    Returns:\n",
        "        Name of the hospital.(str) &\n",
        "        None if anything fails.\n",
        "    \"\"\"\n",
        "    # Ensure sex is lowercase\n",
        "    sex = sex.lower()\n",
        "\n",
        "\n",
        "    # Make the API call\n",
        "    url = f\"https://oumdj6oci2.execute-api.us-east-1.amazonaws.com/prd/?age={age}&sex={sex}&risk_pct={risk}\"\n",
        "\n",
        "\n",
        "    try:\n",
        "        response = requests.get(url)\n",
        "        response.raise_for_status()  # Raise HTTPError for bad responses\n",
        "\n",
        "\n",
        "        # Parse JSON response\n",
        "        hospital_info = response.json()\n",
        "        return hospital_info.get('hospital')\n",
        "\n",
        "\n",
        "    except requests.exceptions.RequestException as e:\n",
        "        print(f\"Error: {e}\")\n",
        "        return None\n"
      ]
    },
    {
      "cell_type": "code",
      "source": [
        "print(find_hospital(60, 'female', 0.4))\n",
        "print(find_hospital(40, 'male', 0.1))\n",
        "print(find_hospital(70, 'female', 0.8))"
      ],
      "metadata": {
        "id": "rK7jMBptL5x9",
        "outputId": "331abe0d-8656-466f-9b97-0ee387d5eebd",
        "colab": {
          "base_uri": "https://localhost:8080/"
        }
      },
      "execution_count": 5,
      "outputs": [
        {
          "output_type": "stream",
          "name": "stdout",
          "text": [
            "Emory Dunwoody Medical Center\n",
            "Southwest Hospital and Medical Center\n",
            "Wesley Woods Geriatric Hospital\n"
          ]
        }
      ]
    },
    {
      "cell_type": "code",
      "execution_count": 6,
      "metadata": {
        "id": "ynsG8v0hFvzr",
        "outputId": "1ca6e42e-f88c-4b20-a219-de640f7f7cbd",
        "colab": {
          "base_uri": "https://localhost:8080/"
        }
      },
      "outputs": [
        {
          "output_type": "stream",
          "name": "stdout",
          "text": [
            "Finding tests in NoName\n"
          ]
        }
      ],
      "source": [
        "import doctest\n",
        "doctest.run_docstring_examples(find_hospital, globals(),verbose=True)"
      ]
    },
    {
      "cell_type": "markdown",
      "metadata": {
        "id": "4bQboaYWFvzr"
      },
      "source": [
        "## Part 3: Get the address for that hospital from a JSON file\n",
        "\n",
        "Great! Now we have code to tell us which hospital to send someone to... but we don't know where that hospital is. The next function we need to create is one that looks up the address of that hospital.  All of these hospitals are in Atlanta, Georgia.  We're going to use the list from this webpage to lookup the address for that hospital, based on its name.  https://www.officialusa.com/stateguides/health/hospitals/georgia.html\n",
        "\n",
        "Because we skipped the section about Beautiful Soup and working with HTML, I've converted this information into a JSON document for you.  It's available for you here.  Your code should retrieve this file using the `requests` module.\n",
        "\n",
        "`https://drive.google.com/uc?export=download&id=1fIFD-NkcdiMu941N4GjyMDWxiKsFJBw-`\n",
        "\n",
        "1. You need to create a function called **get_address()** that takes hospital name as a parameter and searches the data from this JSON file for the hospital you want to find.\n",
        "2. Your code will have to load the JSON and return the correct hospital based on name.\n",
        "3. If the hospital name isn't found, the function should return None.\n",
        "4. Be sure to use good docstring documentation and includes at least 3 test cases."
      ]
    },
    {
      "cell_type": "code",
      "execution_count": 7,
      "metadata": {
        "id": "9PBJ8ZnyFvzr"
      },
      "outputs": [],
      "source": [
        "import requests\n",
        "\n",
        "def find_hospital(age, sex, risk):\n",
        "    \"\"\" (int, str, bool)\n",
        "    This function finds the appropriate hospital based on age, sex, and risk percentage.\n",
        "    Returns:\n",
        "        str: Name of the recommended hospital, or None if anything fails.\n",
        "    \"\"\"\n",
        "    # Ensure sex is lowercase\n",
        "    sex = sex.lower()\n",
        "\n",
        "    # Make the API call\n",
        "    url = f\"https://oumdj6oci2.execute-api.us-east-1.amazonaws.com/prd/?age={age}&sex={sex}&risk_pct={risk}\"\n",
        "\n",
        "    try:\n",
        "        response = requests.get(url)\n",
        "        response.raise_for_status()  # Raise HTTPError for bad responses\n",
        "\n",
        "        # Parse JSON response\n",
        "        hospital_info = response.json()\n",
        "        return hospital_info.get('hospital')\n",
        "\n",
        "    except requests.exceptions.RequestException as e:\n",
        "        print(f\"Error: {e}\")\n",
        "        return None\n",
        "\n",
        "# Test cases\n",
        "result_1 = find_hospital(35, 'male', 0.1)\n",
        "result_2 = find_hospital(65, 'female', 0.9)\n",
        "result_3 = find_hospital(85, 'male', 0.99)\n",
        "\n",
        "\n"
      ]
    },
    {
      "cell_type": "code",
      "source": [
        "print(f\"Test Case 1: Expected 'Southwest Hospital and Medical Center', Got: {result_1}\")\n",
        "print(f\"Test Case 2: Expected 'Northeast Medical Center', Got: {result_2}\")\n",
        "print(f\"Test Case 3: Expected 'Northwest General Hospital', Got: {result_3}\")\n"
      ],
      "metadata": {
        "id": "hUpgESEDhRoB",
        "outputId": "98075a81-10a9-46c8-8340-0c41c54152fd",
        "colab": {
          "base_uri": "https://localhost:8080/"
        }
      },
      "execution_count": 8,
      "outputs": [
        {
          "output_type": "stream",
          "name": "stdout",
          "text": [
            "Test Case 1: Expected 'Southwest Hospital and Medical Center', Got: Southwest Hospital and Medical Center\n",
            "Test Case 2: Expected 'Northeast Medical Center', Got: Wesley Woods Geriatric Hospital\n",
            "Test Case 3: Expected 'Northwest General Hospital', Got: Wesley Woods Geriatric Hospital\n"
          ]
        }
      ]
    },
    {
      "cell_type": "markdown",
      "metadata": {
        "id": "YWrl9KicFvzr"
      },
      "source": [
        "## Part 4: Run the risk calculator on a population\n",
        "\n",
        "At the link below, there is a file called `people.psv`.  It is a pipe-delimited (`|`) file with columns that match the inputs for the PRIEST calculation above.  Your code should use the `requests` module to retrieve the file from this URL.\n",
        "\n",
        "`https://drive.google.com/uc?export=download&id=1fLxJN9YGUqmqExrilxSS8furwUER5HHh`\n",
        "\n",
        "\n",
        "In addition, the file has a patient identifier in the first column.\n",
        "\n",
        "1. Write a function called **process_people()** that takes the file location above as its only parameter. Your Python program should use your code above to process all of these rows, determine the hospital and address, and return a list whose items are a dictionary like this: `{ patient_number: [sex, age, breath, o2sat, heart, systolic, temp, alertness, inspired, status, hospital, address]}`.  Look at the file in Part 5 for what the output looks like.\n",
        "2. Be sure to use good docstrings, but you don't need any tests in your doc strings.  I've provided those for you withe file in Part 5.\n",
        "\n",
        "\n",
        "**NOTE** that when running your code for all the 100 records in the `people.psv` file, it may take a few minutes to complete.  You're making multiple calls to the internet for each record, so that can take a little while.\n"
      ]
    },
    {
      "cell_type": "code",
      "source": [
        "def process_people(file_url):\n",
        "    response = requests.get(file_url)\n",
        "\n",
        "    if response.status_code == 200:\n",
        "        try:\n",
        "            data = response.json()\n",
        "            print(f\"Data: {data}\")\n",
        "        except Exception as e:\n",
        "            print(f\"Error parsing JSON: {e}\")\n",
        "import requests\n",
        "\n",
        "# Define find_hospital and get_address functions here\n",
        "\n",
        "# Define priest_score calculation here\n",
        "\n",
        "def process_people(file_url):\n",
        "    \"\"\" This function processes patient data and calculates PRIEST scores for each patient, returning a\n",
        "        list of dictionaries containing patient information and calculated PRIEST scores.\n",
        "    \"\"\"\n",
        "    response = requests.get(file_url)\n",
        "\n",
        "    if response.status_code == 200:\n",
        "        data = response.json()\n",
        "        processed_data = []\n",
        "\n",
        "        for row in data:\n",
        "            patient_info = {}\n",
        "            for key, value in row.items():\n",
        "                patient_info[key] = value\n",
        "\n",
        "            # Calculate or retrieve priest_score\n",
        "            priest_score = calculate_priest_score(patient_info)  # Example function call\n",
        "\n",
        "            if priest_score is not None:\n",
        "                if priest_score < 0.1:\n",
        "                    patient_info['Hospital'] = 'Home'\n",
        "                    patient_info['Address'] = 'Home'\n",
        "                else:\n",
        "                    patient_info['Hospital'] = find_hospital(\n",
        "                        int(patient_info['Age']),\n",
        "                        patient_info['Sex'],\n",
        "                        priest_score\n",
        "                    )\n",
        "                    patient_info['Address'] = get_address(patient_info['Hospital'])\n",
        "\n",
        "            processed_data.append(patient_info)\n",
        "\n",
        "        return processed_data\n",
        "\n",
        "    return None\n",
        "\n",
        "processed_data = process_people('https://drive.google.com/uc?export=download&id=1fIFD-NkcdiMu941N4GjyMDWxiKsFJBw-')\n"
      ],
      "metadata": {
        "id": "WlBoYDhBMycm",
        "outputId": "ccaa66ff-62fe-40c3-936f-c60c49a48a20",
        "colab": {
          "base_uri": "https://localhost:8080/",
          "height": 331
        }
      },
      "execution_count": 9,
      "outputs": [
        {
          "output_type": "error",
          "ename": "AttributeError",
          "evalue": "ignored",
          "traceback": [
            "\u001b[0;31m---------------------------------------------------------------------------\u001b[0m",
            "\u001b[0;31mAttributeError\u001b[0m                            Traceback (most recent call last)",
            "\u001b[0;32m<ipython-input-9-29cd4095081e>\u001b[0m in \u001b[0;36m<cell line: 52>\u001b[0;34m()\u001b[0m\n\u001b[1;32m     50\u001b[0m     \u001b[0;32mreturn\u001b[0m \u001b[0;32mNone\u001b[0m\u001b[0;34m\u001b[0m\u001b[0;34m\u001b[0m\u001b[0m\n\u001b[1;32m     51\u001b[0m \u001b[0;34m\u001b[0m\u001b[0m\n\u001b[0;32m---> 52\u001b[0;31m \u001b[0mprocessed_data\u001b[0m \u001b[0;34m=\u001b[0m \u001b[0mprocess_people\u001b[0m\u001b[0;34m(\u001b[0m\u001b[0;34m'https://drive.google.com/uc?export=download&id=1fIFD-NkcdiMu941N4GjyMDWxiKsFJBw-'\u001b[0m\u001b[0;34m)\u001b[0m\u001b[0;34m\u001b[0m\u001b[0;34m\u001b[0m\u001b[0m\n\u001b[0m",
            "\u001b[0;32m<ipython-input-9-29cd4095081e>\u001b[0m in \u001b[0;36mprocess_people\u001b[0;34m(file_url)\u001b[0m\n\u001b[1;32m     26\u001b[0m         \u001b[0;32mfor\u001b[0m \u001b[0mrow\u001b[0m \u001b[0;32min\u001b[0m \u001b[0mdata\u001b[0m\u001b[0;34m:\u001b[0m\u001b[0;34m\u001b[0m\u001b[0;34m\u001b[0m\u001b[0m\n\u001b[1;32m     27\u001b[0m             \u001b[0mpatient_info\u001b[0m \u001b[0;34m=\u001b[0m \u001b[0;34m{\u001b[0m\u001b[0;34m}\u001b[0m\u001b[0;34m\u001b[0m\u001b[0;34m\u001b[0m\u001b[0m\n\u001b[0;32m---> 28\u001b[0;31m             \u001b[0;32mfor\u001b[0m \u001b[0mkey\u001b[0m\u001b[0;34m,\u001b[0m \u001b[0mvalue\u001b[0m \u001b[0;32min\u001b[0m \u001b[0mrow\u001b[0m\u001b[0;34m.\u001b[0m\u001b[0mitems\u001b[0m\u001b[0;34m(\u001b[0m\u001b[0;34m)\u001b[0m\u001b[0;34m:\u001b[0m\u001b[0;34m\u001b[0m\u001b[0;34m\u001b[0m\u001b[0m\n\u001b[0m\u001b[1;32m     29\u001b[0m                 \u001b[0mpatient_info\u001b[0m\u001b[0;34m[\u001b[0m\u001b[0mkey\u001b[0m\u001b[0;34m]\u001b[0m \u001b[0;34m=\u001b[0m \u001b[0mvalue\u001b[0m\u001b[0;34m\u001b[0m\u001b[0;34m\u001b[0m\u001b[0m\n\u001b[1;32m     30\u001b[0m \u001b[0;34m\u001b[0m\u001b[0m\n",
            "\u001b[0;31mAttributeError\u001b[0m: 'str' object has no attribute 'items'"
          ]
        }
      ]
    },
    {
      "cell_type": "code",
      "source": [],
      "metadata": {
        "id": "5_08wNgQMzWx"
      },
      "execution_count": null,
      "outputs": []
    },
    {
      "cell_type": "markdown",
      "metadata": {
        "id": "xyd8Q0HHFvzs"
      },
      "source": [
        "## Part 5: Checking your final results\n",
        "\n",
        "The final step is to check your results.  You should be able to compare your results to the output in `people_results.json` at the link below.  Write some code to check your results.  This does not need to be a function.\n",
        "\n",
        "`https://drive.google.com/uc?export=download&id=1gx1SSC20mO5XL6uYD0mdcM_cL91fcIW5`\n"
      ]
    },
    {
      "cell_type": "code",
      "execution_count": null,
      "metadata": {
        "id": "TfH4Y00dFvzs"
      },
      "outputs": [],
      "source": []
    },
    {
      "cell_type": "markdown",
      "metadata": {
        "id": "_Y51Nn08Fvzs"
      },
      "source": [
        "---\n",
        "\n",
        "## Check your work above\n",
        "\n",
        "If you didn't get them all correct, take a few minutes to think through those that aren't correct.\n",
        "\n",
        "\n",
        "## Submitting Your Work\n",
        "\n",
        "Submit your work as usual into a folder named `midterm`"
      ]
    },
    {
      "cell_type": "markdown",
      "metadata": {
        "id": "XSl89VLUFvzs"
      },
      "source": [
        "---"
      ]
    }
  ],
  "metadata": {
    "kernelspec": {
      "display_name": "Python 3",
      "language": "python",
      "name": "python3"
    },
    "language_info": {
      "codemirror_mode": {
        "name": "ipython",
        "version": 3
      },
      "file_extension": ".py",
      "mimetype": "text/x-python",
      "name": "python",
      "nbconvert_exporter": "python",
      "pygments_lexer": "ipython3",
      "version": "3.9.16"
    },
    "colab": {
      "provenance": [],
      "include_colab_link": true
    }
  },
  "nbformat": 4,
  "nbformat_minor": 0
}