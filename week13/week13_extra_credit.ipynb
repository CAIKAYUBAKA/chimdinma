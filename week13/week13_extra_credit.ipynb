{
  "cells": [
    {
      "cell_type": "markdown",
      "metadata": {
        "id": "view-in-github",
        "colab_type": "text"
      },
      "source": [
        "<a href=\"https://colab.research.google.com/github/CAIKAYUBAKA/hds5210-2023/blob/main/week13/week13_extra_credit.ipynb\" target=\"_parent\"><img src=\"https://colab.research.google.com/assets/colab-badge.svg\" alt=\"Open In Colab\"/></a>"
      ]
    },
    {
      "cell_type": "markdown",
      "metadata": {
        "id": "wqtdk6WAJnRA"
      },
      "source": [
        "# Week 13 Extra Credit - How will ChatGPT do on your final project idea?\n",
        "\n",
        "This extra credit assignment is entirely optional.  You do not need to do it.\n",
        "\n",
        "If you would like the opportunity to earn up to 5 extra credit points, complete this assignment and submit it via GitHub as normal before Monday, November 27 at 11:59 PM CST.  No late submissions will be accepted.  The file must be saved to your week13 folder in GitHub."
      ]
    },
    {
      "cell_type": "markdown",
      "metadata": {
        "id": "6TGFOexgJnRC"
      },
      "source": [
        "## Part 1: Have a conversation with ChatGPT\n",
        "\n",
        "I want you to have a conversation with ChatGPT about your final project idea.  Find out what it thinks about your idea and if it has any data sources (URLs for specific sites) that could be helpful.  Below, either include copy/paste the chat history from your conversation or include a link to the shared chat.  (ChatGPT has an [option to share a link to a specific conversation](https://help.openai.com/en/articles/7925741-chatgpt-shared-links-faq).  It's the up-arrow icon in the upper-right corner of your chat window.)\n",
        "\n",
        "Take this conversationw with ChatGPT as far as you want, but at least ask three or four follow-up questions to refine the information you're getting back.\n",
        "\n",
        "If it starts giving you links to information, don't assume they're going to work. Remember that ChatGPT isn't perfect. So, follow the links and make sure there's information there that matches what ChatGPT says you will find."
      ]
    },
    {
      "cell_type": "markdown",
      "metadata": {
        "id": "vpsZFfKoJnRD"
      },
      "source": [
        "**RESPONSE**\n",
        "\n",
        "**Link to see the Original Version** = https://chat.openai.com/share/5eabd2a8-9b61-40a3-9720-4b2fde46d8aa\n",
        "\n",
        "Hey Chatty, I have a final project to submit in december 16th and i want to look at diabetes prevalence and smoking in different regions because my entire family is sick of diabetes except for myself and we have never held a stick of cigarette. i'm interested in knowing how much this is affecting my society so can you share a url or possibly links on how  i can go about this? What do you think about my idea?\n",
        "ChatGPT\n",
        "Hello! It's great that you're interested in exploring the prevalence of diabetes and smoking in different regions for your project. It's a relevant and important topic, especially given your personal connection to diabetes. To gather information for your project, you can follow these steps:\n",
        "\n",
        "Research reputable sources:\n",
        "Look for reputable sources of information on diabetes prevalence and smoking rates. Government health agencies, research institutions, and international health organizations often provide reliable data. Websites such as the World Health Organization (WHO), the Centers for Disease Control and Prevention (CDC), and national health departments can be good starting points.\n",
        "\n",
        "Data collection:\n",
        "Check for available datasets related to diabetes prevalence and smoking rates. Some organizations provide open access to their data, which you can use for analysis. Make sure to collect data specific to different regions to compare and contrast.\n",
        "\n",
        "Literature review:\n",
        "Conduct a literature review to understand the existing research on the relationship between diabetes and smoking. This will help you identify key factors, trends, and potential gaps in knowledge.\n",
        "\n",
        "Statistical analysis:\n",
        "If you're comfortable with statistical analysis, you can use tools like Excel, Python, or R to analyze the data. Look for patterns, correlations, and differences between regions. Visualizations such as graphs and charts can be powerful in conveying your findings.\n",
        "\n",
        "Compare and contrast:\n",
        "Compare diabetes prevalence rates and smoking rates across different regions. Explore whether there are correlations or trends between these two factors. Consider other factors that might influence the relationship, such as lifestyle, socioeconomic status, or healthcare infrastructure.\n",
        "\n",
        "Draw conclusions:\n",
        "Based on your analysis, draw conclusions about the impact of smoking on diabetes prevalence in different regions. Discuss the potential public health implications and ways to address the issue.\n",
        "\n",
        "As for URLs, I can't provide real-time links, but you can start your search with terms like \"diabetes prevalence by region\" or \"smoking rates by country.\" Ensure you're using reputable sources for accurate and up-to-date information.\n",
        "\n",
        "Remember to properly cite your sources and adhere to any guidelines or requirements for your project. Good luck with your research and the final project submission! If you have specific questions or need further guidance, feel free to ask.\n",
        "\n",
        "\n",
        "\n",
        "**RESPONSE 2**\n",
        "No links or url you can find to give me hints or even website addresses?\n",
        "\n",
        "ChatGPT\n",
        "I can't provide real-time links, but I can certainly suggest some reputable websites where you can find information on diabetes prevalence and smoking rates. Keep in mind that you'll need to explore these sites and search for the specific data you're interested in:\n",
        "\n",
        "World Health Organization (WHO):\n",
        "\n",
        "Website: WHO\n",
        "The WHO provides global health data, including information on diabetes and smoking.\n",
        "Centers for Disease Control and Prevention (CDC):\n",
        "\n",
        "Website: CDC\n",
        "The CDC is a valuable resource for health-related data, including diabetes and smoking statistics in the United States.\n",
        "International Diabetes Federation (IDF):\n",
        "\n",
        "Website: IDF\n",
        "The IDF focuses on diabetes worldwide and may provide regional data on prevalence.\n",
        "World Bank - Health Nutrition and Population Statistics:\n",
        "\n",
        "Website: World Bank\n",
        "The World Bank provides health statistics for various countries, which may include data on diabetes and smoking.\n",
        "Global Burden of Disease Study:\n",
        "\n",
        "Website: Global Burden of Disease\n",
        "This study provides comprehensive health-related data, and you may find information on the global burden of diabetes and smoking.\n",
        "National Institutes of Health (NIH):\n",
        "\n",
        "Website: NIH\n",
        "The NIH is a U.S. government agency that conducts and supports medical research. You may find relevant studies and data on diabetes and smoking.\n",
        "When you visit these websites, look for dedicated health statistics sections or search features to narrow down the information you need. Additionally, explore the publications and reports sections for in-depth studies and analyses.\n",
        "\n",
        "Remember to critically evaluate the information, check the publication date, and cite your sources appropriately for your project. If you encounter any challenges or have specific questions about the data, feel free to reach out for further assistance!\n",
        "\n"
      ]
    },
    {
      "cell_type": "markdown",
      "metadata": {
        "id": "CYb0KrWyJnRD"
      },
      "source": [
        "### Part 2: Your reflection\n",
        "\n",
        "Below, tell me what you think ChatGPT did well or not well in your conversation.  Was it good at finding data that you needed?  Was it good at finding actual links that worked?  Did its responses make sense to you?  What did it do well / not well?\n",
        "\n",
        "Your response below should be several sentences.  If you don't have enough feedback, expand your conversation with ChatGPT.  Ask it refine your project idea or start writing code for you.  See what it can do."
      ]
    },
    {
      "cell_type": "markdown",
      "metadata": {
        "id": "ZvUE8EDRJnRD"
      },
      "source": [
        "**RESPONSE**\n",
        "\n",
        "ChatGPT has no means of providing links or url to any website so this is basically us (the students) figuring it out on our own, finding good datasets and joining relevant tables to come with ways our research can contribute and bring a positive outcome in research.\n",
        "so goodluck to everyone working hard and not sharing codes!"
      ]
    },
    {
      "cell_type": "markdown",
      "metadata": {
        "id": "-fH0_9YJJnRD"
      },
      "source": [
        "### Submitting\n",
        "\n",
        "Submit this as normal to GitHub with the name `wee13/week13_extra_credit.ipynb`"
      ]
    },
    {
      "cell_type": "markdown",
      "metadata": {
        "id": "Q2k1sGRAJnRD"
      },
      "source": []
    }
  ],
  "metadata": {
    "language_info": {
      "name": "python"
    },
    "colab": {
      "provenance": [],
      "include_colab_link": true
    }
  },
  "nbformat": 4,
  "nbformat_minor": 0
}