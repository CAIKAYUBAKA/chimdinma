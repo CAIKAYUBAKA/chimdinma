{
  "cells": [
    {
      "cell_type": "markdown",
      "metadata": {
        "id": "view-in-github",
        "colab_type": "text"
      },
      "source": [
        "<a href=\"https://colab.research.google.com/github/CAIKAYUBAKA/hds5210-2023/blob/main/week07/week07_assignment_2.ipynb\" target=\"_parent\"><img src=\"https://colab.research.google.com/assets/colab-badge.svg\" alt=\"Open In Colab\"/></a>"
      ]
    },
    {
      "cell_type": "markdown",
      "metadata": {
        "id": "jCGl3llGAssr"
      },
      "source": [
        "# Week 7 Assignment\n",
        "\n",
        "We've been working with different types of data structures in Python (dictionary, list, etc), how those are represented in JSON documents, and how to write code to access specific data elements. In this week's assignment, you will need to create your own JSON document to store information about yourself and the grades you've received from week 1 to week 4 and the week 6 quiz.  That is, everything you should have received a grade for.  Then you'll need to show me you know how to navigate the JSON in that file.\n",
        "\n",
        "Different from what we've done in the past, you do not have to write any functions or include any docstrings.  Just create some JSON and write some code.\n",
        "\n",
        "---"
      ]
    },
    {
      "cell_type": "markdown",
      "metadata": {
        "id": "-lAlMnocAsss"
      },
      "source": [
        "## 7.1 Create a JSON string\n",
        "\n",
        "Create a JSON string that contains your name, email, year you were born, all of the grades you've received back so far, and a comment about what you thought was most challenging on each of those assignments.  This can be any structure you choose, but make sure it uses a dictionary and a list, and has at least two levels of hierarchy.  That is, it can't just be one big long list."
      ]
    },
    {
      "cell_type": "markdown",
      "metadata": {
        "id": "2bdjsDsqAsss"
      },
      "source": [
        "First, explain how your data structure is going to look..."
      ]
    },
    {
      "cell_type": "markdown",
      "metadata": {
        "id": "BqrOTTYOAsss"
      },
      "source": [
        "* Put your explanation here in text..."
      ]
    },
    {
      "cell_type": "markdown",
      "source": [
        "My name is Chimdinma Aikay-ubaka, my email is chimdinmankemjika.aikayubaka@slu.edu, i was born on the 27th of october 1992, my marks so far has been as a result of consistent efforts and discipline by studying longer hours and ensuring my codes are written properly and also i had a 10/10 in week 1, it dropped to 8/10 in week 2, and the most annoying part was 5/10 in week 3, i almost died out of frustration and sadness knowing how difficult it was for my father to raise fees. i kept seeking for help, i went to salus center and met with divya and sarah the academic counselor and reached out to professor boal and shalini and they came forth with help, professor boal was amazing, we had a zoom meeting and i understood python was simply what you input is what it gives you as output so you need to know what to input to get a better output. I had to learn doing this, i spent 2-3 hours everyday learning python and i haven’t become perfect yet, still learning but my progress was tested during the quiz and i had a whooping 19 points out of 20 , week 4 was 9/10 and that became the happiest week ever for me."
      ],
      "metadata": {
        "id": "81R-zobTBRVM"
      }
    },
    {
      "cell_type": "markdown",
      "metadata": {
        "id": "IP9ax_SAAsst"
      },
      "source": [
        "Then put the actual JSON you've created inside the multiline string below..."
      ]
    },
    {
      "cell_type": "code",
      "execution_count": 1,
      "metadata": {
        "id": "cQ0cs052Asst"
      },
      "outputs": [],
      "source": [
        "hds5210 = \"\"\"\n",
        "{\n",
        "  \"name\": \"Chimdinma Aikay-ubaka\",\n",
        "  \"email\": \"chimdinmankemjika.aikayubaka@slu.edu\",\n",
        "  \"birthdate\": \"1992-10-27\",\n",
        "  \"academic_performance\": {\n",
        "    \"study_approach\": \"consistent efforts and discipline by studying longer hours and ensuring codes are written properly\",\n",
        "    \"weekly_performance\": [\n",
        "      {\"week_number\": 1, \"marks\": \"10/10\"},\n",
        "      {\"week_number\": 2, \"marks\": \"8/10\"},\n",
        "      {\"week_number\": 3, \"marks\": \"5/10\", \"challenges\": \"financial difficulties\"},\n",
        "      {\"week_number\": 4, \"marks\": \"9/10\"}\n",
        "    ],\n",
        "    \"support_received\": [\n",
        "      {\"source\": \"Salus Center\", \"counselors\": [\"Divya\", \"Sarah\"]},\n",
        "      {\"source\": \"Professors\", \"professors\": [\"Boal\", \"Shalini\"]}\n",
        "    ],\n",
        "    \"learning_details\": {\n",
        "      \"daily_learning_hours\": \"2-3 hours\",\n",
        "      \"learning_status\": \"still learning, making progress\",\n",
        "      \"quiz_performance\": {\"points_earned\": 19, \"total_points\": 20}\n",
        "    }\n",
        "  }\n",
        "}\n",
        "\n",
        "\"\"\""
      ]
    },
    {
      "cell_type": "markdown",
      "metadata": {
        "id": "IV16YpM5Asst"
      },
      "source": [
        "## 7.2 Do something with your JSON\n",
        "\n",
        "Now use Python code to do something with the Json above.  Turn it into English text, but make sure that you use at least one loop to access some dict or list content of your JSON.  Below, I've provided some basic code to read in the string above as JSON and return a Python object.  Your job is to work with that data structure and print out the important information like your name, email, and how you did on each assignment."
      ]
    },
    {
      "cell_type": "code",
      "execution_count": 2,
      "metadata": {
        "id": "OhG8Ke_9Asst",
        "outputId": "fe0d279a-1c03-4685-80f3-f8dea97bd3ab",
        "colab": {
          "base_uri": "https://localhost:8080/"
        }
      },
      "outputs": [
        {
          "output_type": "stream",
          "name": "stdout",
          "text": [
            "Name: Chimdinma Aikay-ubaka\n",
            "Email: chimdinmankemjika.aikayubaka@slu.edu\n",
            "Birthdate: 1992-10-27\n",
            "Week 1 Performance: 10/10\n",
            "Week 2 Performance: 8/10\n",
            "Week 3 Performance: 5/10\n",
            "Week 4 Performance: 9/10\n",
            "Received support from Salus Center by Divya, Sarah\n",
            "Received support from Professors by Boal, Shalini\n",
            "Learning Python for 2-3 hours per day.\n",
            "Learning Status: still learning, making progress\n",
            "Quiz Performance: 19 out of 20\n"
          ]
        }
      ],
      "source": [
        "import json\n",
        "\n",
        "info = json.loads(hds5210)\n",
        "import json\n",
        "\n",
        "# Assuming jsonString contains the JSON data provided\n",
        "jsonString = '''\n",
        "{\n",
        "  \"name\": \"Chimdinma Aikay-ubaka\",\n",
        "  \"email\": \"chimdinmankemjika.aikayubaka@slu.edu\",\n",
        "  \"birthdate\": \"1992-10-27\",\n",
        "  \"academic_performance\": {\n",
        "    \"study_approach\": \"consistent efforts and discipline by studying longer hours and ensuring codes are written properly\",\n",
        "    \"weekly_performance\": [\n",
        "      {\"week_number\": 1, \"marks\": \"10/10\"},\n",
        "      {\"week_number\": 2, \"marks\": \"8/10\"},\n",
        "      {\"week_number\": 3, \"marks\": \"5/10\", \"challenges\": \"financial difficulties\"},\n",
        "      {\"week_number\": 4, \"marks\": \"9/10\"}\n",
        "    ],\n",
        "    \"support_received\": [\n",
        "      {\"source\": \"Salus Center\", \"counselors\": [\"Divya\", \"Sarah\"]},\n",
        "      {\"source\": \"Professors\", \"professors\": [\"Boal\", \"Shalini\"]}\n",
        "    ],\n",
        "    \"learning_details\": {\n",
        "      \"daily_learning_hours\": \"2-3 hours\",\n",
        "      \"learning_status\": \"still learning, making progress\",\n",
        "      \"quiz_performance\": {\"points_earned\": 19, \"total_points\": 20}\n",
        "    }\n",
        "  }\n",
        "}\n",
        "'''\n",
        "\n",
        "# Parse the JSON string into a Python object\n",
        "data = json.loads(jsonString)\n",
        "\n",
        "# Access and print important information\n",
        "print(f\"Name: {data['name']}\")\n",
        "print(f\"Email: {data['email']}\")\n",
        "print(f\"Birthdate: {data['birthdate']}\")\n",
        "\n",
        "# Print performance for each week\n",
        "for week_data in data['academic_performance']['weekly_performance']:\n",
        "    print(f\"Week {week_data['week_number']} Performance: {week_data['marks']}\")\n",
        "\n",
        "# Print support received\n",
        "for support_data in data['academic_performance']['support_received']:\n",
        "    source = support_data['source']\n",
        "    counselors_or_professors = \", \".join(support_data.get('counselors', []) + support_data.get('professors', []))\n",
        "    print(f\"Received support from {source} by {counselors_or_professors}\")\n",
        "\n",
        "# Print Python learning progress\n",
        "print(f\"Learning Python for {data['academic_performance']['learning_details']['daily_learning_hours']} per day.\")\n",
        "print(f\"Learning Status: {data['academic_performance']['learning_details']['learning_status']}\")\n",
        "print(f\"Quiz Performance: {data['academic_performance']['learning_details']['quiz_performance']['points_earned']} out of {data['academic_performance']['learning_details']['quiz_performance']['total_points']}\")\n"
      ]
    },
    {
      "cell_type": "markdown",
      "metadata": {
        "id": "pk63_cyQAsst"
      },
      "source": [
        "## 7.3 Reflect\n",
        "\n",
        "Write a paragraph on any reflections you have. Was this hard? Easy?  What parts were most challenging or easiest? What did you like or dislike about the assignment?  Share whatever important thoughts you have abou this assignment."
      ]
    },
    {
      "cell_type": "markdown",
      "metadata": {
        "id": "JsnuI4SRAsst"
      },
      "source": [
        "* Put your response here"
      ]
    },
    {
      "cell_type": "code",
      "source": [
        "reflection = \"\"\"\n",
        "This was hard to understand; thank you for the examples of you and your friend and kids.\n",
        "The hard part was dealing with commas and strings, and figuring out what needed to be added to make each chunk of code work.\n",
        "This has been the craziest thing I've ever done.\n",
        "I followed every line and changed the data to mine.\n",
        "I tried running this code several times, encountering errors every single time.\n",
        "At times, I've had to restart Colab so you don't see how many times I've done this.\n",
        "I don't want you to think I'm crazy... hahahahaha.\n",
        "But this is all part of the learning process for me.\n",
        "I've never encountered something so challenging yet so much fun.\n",
        "I love challenges, so I'm willing to fail a couple of times as long as I end up getting it right.\n",
        "It's always a huge celebration for me.\n",
        "\"\"\"\n",
        "\n",
        "import json\n",
        "with open('reflection.json', 'w') as file:\n",
        "    json.dump({\"reflection\": reflection}, file)"
      ],
      "metadata": {
        "id": "eR0mo096BY02"
      },
      "execution_count": 3,
      "outputs": []
    },
    {
      "cell_type": "code",
      "source": [
        "#load the json file\n",
        "with open('reflection.json', 'r') as file:\n",
        "    data = json.load(file)\n",
        "reflection = data['reflection']\n",
        "print(reflection)"
      ],
      "metadata": {
        "id": "vZ0D-LgoCcyg",
        "outputId": "553fff8d-392d-4817-f5ee-f2882b6bbc9d",
        "colab": {
          "base_uri": "https://localhost:8080/"
        }
      },
      "execution_count": 4,
      "outputs": [
        {
          "output_type": "stream",
          "name": "stdout",
          "text": [
            "\n",
            "This was hard to understand; thank you for the examples of you and your friend and kids. \n",
            "The hard part was dealing with commas and strings, and figuring out what needed to be added to make each chunk of code work. \n",
            "This has been the craziest thing I've ever done. \n",
            "I followed every line and changed the data to mine. \n",
            "I tried running this code several times, encountering errors every single time. \n",
            "At times, I've had to restart Colab so you don't see how many times I've done this. \n",
            "I don't want you to think I'm crazy... hahahahaha. \n",
            "But this is all part of the learning process for me. \n",
            "I've never encountered something so challenging yet so much fun. \n",
            "I love challenges, so I'm willing to fail a couple of times as long as I end up getting it right. \n",
            "It's always a huge celebration for me.\n",
            "\n"
          ]
        }
      ]
    },
    {
      "cell_type": "markdown",
      "metadata": {
        "id": "D6LPL4a4Asst"
      },
      "source": [
        "---\n",
        "\n",
        "# Example\n",
        "\n",
        "Below is an example of something similar, but this uses information my and my friend's kids instead of grades."
      ]
    },
    {
      "cell_type": "code",
      "execution_count": 5,
      "metadata": {
        "id": "EbjI44HJAsst",
        "outputId": "9f6a0af8-380c-46f7-c650-7095f93861d5",
        "colab": {
          "base_uri": "https://localhost:8080/"
        }
      },
      "outputs": [
        {
          "output_type": "stream",
          "name": "stdout",
          "text": [
            "Hi, my name is Paul. I've got 3 kids. Their names are Ellie, Ada, Teddy.\n",
            "My friend, Anny has 1 kids. That's fewer than me. Their names are 1\n"
          ]
        }
      ],
      "source": [
        "hds5210 = \"\"\"\n",
        "{\n",
        "    \"me\": {\n",
        "        \"name\": \"Paul\",\n",
        "        \"kids\": [\"Ellie\", \"Ada\", \"Teddy\"]\n",
        "    },\n",
        "    \"friend\": {\n",
        "        \"name\": \"Anny\",\n",
        "        \"kids\": [\"Abby\"]\n",
        "    }\n",
        "}\n",
        "\"\"\"\n",
        "\n",
        "import json\n",
        "\n",
        "info = json.loads(hds5210)\n",
        "\n",
        "me = info[\"me\"][\"name\"]\n",
        "my_kids_count = len(info[\"me\"][\"kids\"])\n",
        "kids_list = \", \".join(info[\"me\"][\"kids\"])\n",
        "friend = info[\"friend\"][\"name\"]\n",
        "friends_kid_count = len(info[\"friend\"][\"kids\"])\n",
        "friend_kids = \", \".join(info[\"friend\"][\"kids\"])\n",
        "compare = \"more\" if friends_kid_count > my_kids_count else \"fewer\"\n",
        "\n",
        "print(f\"Hi, my name is {me}. I've got {my_kids_count} kids. Their names are {kids_list}.\")\n",
        "print(f\"My friend, {friend} has {friends_kid_count} kids. That's {compare} than me. Their names are {friends_kid_count}\")"
      ]
    }
  ],
  "metadata": {
    "kernelspec": {
      "display_name": "Python 3",
      "language": "python",
      "name": "python3"
    },
    "language_info": {
      "codemirror_mode": {
        "name": "ipython",
        "version": 3
      },
      "file_extension": ".py",
      "mimetype": "text/x-python",
      "name": "python",
      "nbconvert_exporter": "python",
      "pygments_lexer": "ipython3",
      "version": "3.9.16"
    },
    "colab": {
      "provenance": [],
      "include_colab_link": true
    }
  },
  "nbformat": 4,
  "nbformat_minor": 0
}