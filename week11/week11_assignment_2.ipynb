{
  "cells": [
    {
      "cell_type": "markdown",
      "metadata": {
        "id": "YSyIWnIRUZHe"
      },
      "source": [
        "# Week 11 Assignment\n",
        "\n",
        "\n",
        "Please do the programming exercise and verify that your code works using the tests, then think about your final project and fill out the questions in the second part.\n",
        "\n",
        "---\n",
        "---"
      ]
    },
    {
      "cell_type": "markdown",
      "metadata": {
        "id": "w6v01GVJUZHf"
      },
      "source": [
        "### 47.1: Filtering and summarizing data\n",
        "\n",
        "For this work, you'll find a data file in `https://hds5210-data.s3.amazonaws.com/complications_all.csv`.\n",
        "\n",
        "Read in the data file and create a variable called `mo_hospitals` that contains a data frame from the `complications_all.csv` file, filtered down to only contain those hospitals from the state of Missouri (MO).\n",
        "\n",
        "Then aggregate that data by hospital into a variable named `mo_summary`.  There are some key fields that we want to summarize:\n",
        "* We want to know the earliest date that each hospital was participating in any program\n",
        "* We want to know the latest date that each hospital stopped participating in any program\n",
        "* We want to know the total number of patients in the denominators of these programs\n",
        "\n",
        "Some things to note:\n",
        "* You will need to convert the `Start Date` and `End Date` to actual datetime fields\n",
        "* You will need to clean up and convert the `Denominator` field to just be numeric - the rule that you should use it to simply remove any records where the `Denominator` is `'Not Available'`\n",
        "\n",
        "\n",
        "The final result of this step should be a new data frame called `mo_summary` that contains one row for each hospital and contains the min start date, max end date, and total denominator.  Use the names `start_date`, `end_date`, and `number` for those columns in `mo_summary`.\n",
        "\n",
        "\n",
        "You do not need to create your code in the form of a function, just make sure your variable names match what I've described above so the tests work."
      ]
    },
    {
      "cell_type": "code",
      "execution_count": 1,
      "metadata": {
        "id": "iU_BwYGxUZHg"
      },
      "outputs": [],
      "source": [
        "import pandas as pd\n",
        "# This is just to show you the name to use for the variable you need to create for this step to pass.\n",
        "all_hospitals = pd.read_csv('https://hds5210-data.s3.amazonaws.com/complications_all.csv')\n"
      ]
    },
    {
      "cell_type": "code",
      "execution_count": 2,
      "metadata": {
        "id": "C99XEEI2UZHg",
        "outputId": "85942075-2ea6-443c-bc68-071f6aec2e77",
        "colab": {
          "base_uri": "https://localhost:8080/"
        }
      },
      "outputs": [
        {
          "output_type": "stream",
          "name": "stdout",
          "text": [
            "Index(['Facility ID', 'Facility Name', 'Address', 'City', 'State', 'ZIP Code',\n",
            "       'County Name', 'Phone Number', 'Measure ID', 'Measure Name',\n",
            "       'Compared to National', 'Denominator', 'Score', 'Lower Estimate',\n",
            "       'Higher Estimate', 'Footnote', 'Start Date', 'End Date'],\n",
            "      dtype='object')\n",
            "(108, 3)\n"
          ]
        }
      ],
      "source": [
        "\n",
        "\"\"\" This function will read the csv file that contains a data frame from the complications_all.csv file,\n",
        " filtered down to only contain those hospitals from the state of Missouri (MO) and return a new df\n",
        "\n",
        " \"\"\"\n",
        "\n",
        "# Read in the data file\n",
        "all_hospitals = pd.read_csv('https://hds5210-data.s3.amazonaws.com/complications_all.csv')\n",
        "\n",
        "# Filter hospitals from the state of Missouri (MO)\n",
        "mo_hospitals = all_hospitals[all_hospitals['State'] == 'MO'].copy()\n",
        "\n",
        "# Display column names for troubleshooting\n",
        "print(mo_hospitals.columns)\n",
        "\n",
        "# Convert Start Date and End Date to datetime fields\n",
        "mo_hospitals['Start Date'] = pd.to_datetime(mo_hospitals['Start Date'])\n",
        "mo_hospitals['End Date'] = pd.to_datetime(mo_hospitals['End Date'])\n",
        "\n",
        "# Clean up and convert the Denominator field to numeric, removing 'Not Available'\n",
        "mo_hospitals['Denominator'] = pd.to_numeric(mo_hospitals['Denominator'], errors='coerce')\n",
        "\n",
        "# Filter out records where the Denominator is 'Not Available'\n",
        "mo_hospitals = mo_hospitals.dropna(subset=['Denominator'])\n",
        "\n",
        "# Aggregate data by hospital with 'Facility Name' as the index\n",
        "mo_summary = mo_hospitals.groupby('Facility Name').agg(\n",
        "    start_date=pd.NamedAgg(column='Start Date', aggfunc='min'),\n",
        "    end_date=pd.NamedAgg(column='End Date', aggfunc='max'),\n",
        "    number=pd.NamedAgg(column='Denominator', aggfunc='sum')\n",
        ")\n",
        "\n",
        "# Print the shape of mo_summary\n",
        "print(mo_summary.shape)\n"
      ]
    },
    {
      "cell_type": "code",
      "execution_count": 3,
      "metadata": {
        "id": "9zBZsjMYUZHg"
      },
      "outputs": [],
      "source": [
        "assert(mo_summary['number'].sum() == 1766908)\n",
        "assert(mo_summary['start_date'].min() == pd.Timestamp(2015,4,1))\n",
        "assert(mo_summary['end_date'].max() == pd.Timestamp(2018,6,30))\n",
        "assert(mo_summary.shape == (108,3))\n",
        "assert(mo_summary.loc['BARNES JEWISH HOSPITAL'].number == 131313)\n",
        "assert(mo_summary.loc['BOONE HOSPITAL CENTER'].number == 63099)"
      ]
    },
    {
      "cell_type": "markdown",
      "metadata": {
        "id": "_73dq7qDUZHg"
      },
      "source": [
        "---\n",
        "\n",
        "### 47.2 Planning your final project\n",
        "\n",
        "You should be thinking about the things we've been learning and how you can apply them to your final project.  Use the rubric to help guid your thinking and then answer the questions below.  This is meant as a guide to help you think through what you will do."
      ]
    },
    {
      "cell_type": "markdown",
      "metadata": {
        "id": "RYe1jx_DUZHh"
      },
      "source": [
        "#### A) Data Access\n",
        "\n",
        "Your project should include data from at least three distinct types of sources.  For example: AWS S3, Relational Databases, Internet, Web Services, local files.  List what data sources you're planning to use."
      ]
    },
    {
      "cell_type": "markdown",
      "metadata": {
        "id": "U5JY7gqPUZHh"
      },
      "source": [
        "\n",
        "For my final project, I plan to use data from three different sources to make sure my Dataset is rich. I will use data from the internet, possibly health.gov or kaggle because from previous Assignments, There are publicly available datasets relevant to this course of study mostly health care related. This will allow me access into a wide area of information.\n",
        "Local files will help me stay pratical on my laptop analyzing data because its going to be readily available so i plan on using them.\n",
        "Finally, Data from the web services will be utilized by me because of available APIs to special datasets that may complement the opjectives of this final project. This multiple sources should be able to do the magic of exploring and analyzing data for my finals."
      ]
    },
    {
      "cell_type": "markdown",
      "metadata": {
        "id": "u1RzRurSUZHh"
      },
      "source": [
        "#### B. Data Formats\n",
        "\n",
        "Your project should include data that comes in different file formats.  For example: HL7, EDI, HTML, CSV, Excel, JSON, XML.  List what data formats you're planning to use."
      ]
    },
    {
      "cell_type": "markdown",
      "metadata": {
        "id": "pf3t2qPcUZHh"
      },
      "source": [
        "I love CSV, it's flexible and easy to parse especially while managing structured data and excel is all time friendly with its structure of tables, rows and columns is veryeffective in managing big data, I started liking Jsin because yoi did, using it, its light weight and easy too to parse in terms of formaating and also user fieendly so i'll go for these 3. I hope they help me in the real world too.\n"
      ]
    },
    {
      "cell_type": "markdown",
      "metadata": {
        "id": "QxatY49iUZHh"
      },
      "source": [
        "#### C. Objective\n",
        "\n",
        "What purpose would your project serve in a real work setting?  Take a couple of paragraphs to write down why this is an interesting product."
      ]
    },
    {
      "cell_type": "markdown",
      "metadata": {
        "id": "mW6jGJK_UZHh"
      },
      "source": [
        "My purpose is that this project lands me a giod job in the future. And that the topic i choose helps a company make an informed business decision that they have real time chaallenge facing.  With my usage of different data sources and formats, i pray it would help identify different issues, uncover trends and patterns and provides great insights that would help them handle different business solutions uisng the visualizations i have produced. Hopefully my project contributes to real life decision making and overall accuracy, efficiency and a great business decision withnin the domain i choose and in the future becomes a valuable asset that lands me a job."
      ]
    },
    {
      "cell_type": "markdown",
      "metadata": {
        "id": "bQQo07EQUZHh"
      },
      "source": [
        "\n",
        "\n",
        "---\n",
        "\n",
        "\n",
        "\n",
        "## Submit your work via GitHub as normal\n"
      ]
    }
  ],
  "metadata": {
    "kernelspec": {
      "display_name": "Python 3",
      "language": "python",
      "name": "python3"
    },
    "language_info": {
      "codemirror_mode": {
        "name": "ipython",
        "version": 3
      },
      "file_extension": ".py",
      "mimetype": "text/x-python",
      "name": "python",
      "nbconvert_exporter": "python",
      "pygments_lexer": "ipython3",
      "version": "3.9.16"
    },
    "colab": {
      "provenance": []
    }
  },
  "nbformat": 4,
  "nbformat_minor": 0
}