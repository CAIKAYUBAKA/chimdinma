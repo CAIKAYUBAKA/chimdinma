{
  "cells": [
    {
      "cell_type": "markdown",
      "metadata": {
        "id": "view-in-github",
        "colab_type": "text"
      },
      "source": [
        "<a href=\"https://colab.research.google.com/github/CAIKAYUBAKA/hds5210-2023/blob/main/week05/week05_assignment_2.ipynb\" target=\"_parent\"><img src=\"https://colab.research.google.com/assets/colab-badge.svg\" alt=\"Open In Colab\"/></a>"
      ]
    },
    {
      "cell_type": "markdown",
      "metadata": {
        "nbgrader": {
          "grade": false,
          "grade_id": "intro",
          "locked": true,
          "schema_version": 1,
          "solution": false
        },
        "id": "y4J4jWV1PM4t"
      },
      "source": [
        "# Week 5 Exercises\n",
        "\n",
        "_McKinney 3.2_\n",
        "\n",
        "**Unlike in previous weeks, in the exercises below, you will need to create a function definition from scratch.  I'll provide specific instructions and examples for how it will be used, but you will have to do the work of definiging the whole function.**\n",
        "\n",
        "---\n",
        "---"
      ]
    },
    {
      "cell_type": "markdown",
      "metadata": {
        "nbgrader": {
          "grade": false,
          "grade_id": "longest",
          "locked": true,
          "schema_version": 1,
          "solution": false
        },
        "id": "nwRRU_ZbPM4v"
      },
      "source": [
        "### 25.1 Longest String\n",
        "\n",
        "Write a function called `longest (L)` that takes as its only parameter a list of strings.  Your function needs to find the longest of those strings and return the position number of that longest string.  An example is provided below:\n",
        "\n",
        "The longest word in that list of strings is \"birthday\" in position #1, so `longest(strings)` should return 1.\n",
        "```\n",
        ">>> strings = ['happy', 'birthday', 'to', 'me']\n",
        ">>> longest(strings)\n",
        "1\n",
        "```\n",
        "\n",
        "Be sure to include a docstring.  Include test cases in your docstring if you want to."
      ]
    },
    {
      "cell_type": "code",
      "execution_count": 1,
      "metadata": {
        "nbgrader": {
          "grade": false,
          "grade_id": "longest-answer",
          "locked": false,
          "schema_version": 1,
          "solution": true
        },
        "id": "IA3ezwsWPM4w"
      },
      "outputs": [],
      "source": [
        "### BEGIN SOLUTION\n",
        "def longest(strings):\n",
        "    \"\"\" (list)->int\n",
        "    maximum length of the string is 0\n",
        "    find the index of the longest string in a list of strings\n",
        "\n",
        "    parameters:\n",
        "    strings(list): A list of strings to search for the longest string\n",
        "\n",
        "    Returns:\n",
        "    int: the index of longest string in the list. if the input list is empty, it returns -1\n",
        "\n",
        "    if\n",
        "    >>> longest(\"happy birthday to me\".split(\" \"))\n",
        "    1\n",
        "\n",
        "    >>> longest(\"enjoy class\".split(\" \"))\n",
        "    0\n",
        "    \"\"\"\n",
        "    maxs=0\n",
        "    count=-1\n",
        "    temp=0\n",
        "    for i in range(len(strings)):\n",
        "      count+=1\n",
        "      #print(i)\n",
        "      if len(strings[i])>maxs:\n",
        "        maxs=len(strings[i])\n",
        "        temp=count\n",
        "        #print(temp)\n",
        "    return temp\n",
        "\n",
        "\n",
        "### END SOLUTION"
      ]
    },
    {
      "cell_type": "code",
      "execution_count": 2,
      "metadata": {
        "nbgrader": {
          "grade": true,
          "grade_id": "longest-tests",
          "locked": true,
          "points": 10,
          "schema_version": 1,
          "solution": false
        },
        "id": "sTCOHklAPM4y"
      },
      "outputs": [],
      "source": [
        "assert longest(\"happy birthday to me\".split(\" \")) == 1\n",
        "assert longest(\"enjoy class\".split(\" \")) == 0\n",
        "assert longest(['when','what','where','how','who']) == 2"
      ]
    },
    {
      "cell_type": "code",
      "execution_count": 3,
      "metadata": {
        "id": "ktE_jbazPM4y",
        "outputId": "7d6c6a02-7a8c-418a-b5fc-b321dedbe272",
        "colab": {
          "base_uri": "https://localhost:8080/"
        }
      },
      "outputs": [
        {
          "output_type": "stream",
          "name": "stderr",
          "text": [
            "\n",
            "PYDEV DEBUGGER WARNING:\n",
            "sys.settrace() should not be used when the debugger is being used.\n",
            "This may cause the debugger to stop working correctly.\n",
            "If this is needed, please check: \n",
            "http://pydev.blogspot.com/2007/06/why-cant-pydev-debugger-work-with.html\n",
            "to see how to restore the debug tracing back correctly.\n",
            "Call Location:\n",
            "  File \"/usr/lib/python3.10/doctest.py\", line 1501, in run\n",
            "    sys.settrace(save_trace)\n",
            "\n"
          ]
        },
        {
          "output_type": "stream",
          "name": "stdout",
          "text": [
            "Finding tests in NoName\n",
            "Trying:\n",
            "    longest(\"happy birthday to me\".split(\" \"))\n",
            "Expecting:\n",
            "    1\n",
            "ok\n",
            "Trying:\n",
            "    longest(\"enjoy class\".split(\" \"))\n",
            "Expecting:\n",
            "    0\n",
            "ok\n"
          ]
        }
      ],
      "source": [
        "import doctest\n",
        "doctest.run_docstring_examples(longest, globals(), verbose=True)"
      ]
    },
    {
      "cell_type": "markdown",
      "metadata": {
        "id": "ryM0rXo1PM4z"
      },
      "source": [
        "### 25.2 Farenheit to Celsius\n",
        "\n",
        "Write a function called f_to_c() that converts a given temperature in degrees Farenheit to degrees Celsius.  If you don't recall that conversion, it is:\n",
        "\n",
        "$ temp_c = \\frac{5}{9} \\times (temp_f - 32) $\n",
        "\n",
        "Make sure that you code is well documented using the DocString examples, and that your code includes tests for 212f, 32f, and 98.6f."
      ]
    },
    {
      "cell_type": "code",
      "execution_count": 4,
      "metadata": {
        "id": "GLsT8FaYPM40"
      },
      "outputs": [],
      "source": [
        "### BEGIN SOLUTION\n",
        "def f_to_c(tempinfahren):\n",
        "    \"\"\"\n",
        "    This code converts temperature from Fahrenheit to Celsius.\n",
        "\n",
        "    Parameters:\n",
        "    tempf (float): Temperature in degrees Fahrenheit.\n",
        "\n",
        "    Returns:\n",
        "    float: Temperature in degrees Celsius.\n",
        "    \"\"\"\n",
        "    tempincelsius = 5/9 * (tempinfahren - 32)\n",
        "    return tempincelsius\n",
        "\n",
        "### END SOLUTION"
      ]
    },
    {
      "cell_type": "code",
      "execution_count": 5,
      "metadata": {
        "id": "nqQWWfoRPM40"
      },
      "outputs": [],
      "source": [
        "assert f_to_c(212) == 100.0\n",
        "assert f_to_c(32) == 0.0\n",
        "assert f_to_c(98.6) == 37.0"
      ]
    },
    {
      "cell_type": "code",
      "execution_count": 6,
      "metadata": {
        "id": "gLm8BCbEPM40",
        "outputId": "268e972c-4436-4e7d-d5bb-197a02e1a2b4",
        "colab": {
          "base_uri": "https://localhost:8080/"
        }
      },
      "outputs": [
        {
          "output_type": "stream",
          "name": "stdout",
          "text": [
            "Finding tests in NoName\n"
          ]
        }
      ],
      "source": [
        "import doctest\n",
        "doctest.run_docstring_examples(f_to_c, globals(), verbose=True)"
      ]
    },
    {
      "cell_type": "markdown",
      "metadata": {
        "id": "j2TfOGkmPM41"
      },
      "source": [
        "### 25.3 Computing Length of Stay\n",
        "\n",
        "For this problem, we have a collection of patient enounter data stored as a Python dictionary.  The `key` for the dictionary is the **encounter ID**, a code that starts with the letter `E` followed by four numbers.  The value associated with each encounter ID is another Python dictionary.  This \"inner\" dictionary holds three items: admit date, primary diagnosis, and discharge date.  See the example in the code below.\n",
        "\n",
        "You need to write a length of stay function that computes the length of stay, in whole days, between the admit date and discharge date.  However, if the diagnosis is \"Observation\" then the length of stay should always be returned as 0 regardless of the admit and discharge dates. Your function should should take three parameters: a start date, an end date, and a diagnosis.\n",
        "\n",
        "You will find it handy to refer to this example here on how to calculate the number of days between two dates: https://stackoverflow.com/questions/151199/how-to-calculate-number-of-days-between-two-given-dates"
      ]
    },
    {
      "cell_type": "code",
      "execution_count": 7,
      "metadata": {
        "id": "7zh_7mmqPM41"
      },
      "outputs": [],
      "source": [
        "from datetime import date\n",
        "\n",
        "### BEGIN SOLUTION\n",
        "from datetime import date\n",
        "def los(admitdate, dischargedate, diagnosis):\n",
        "    \"\"\"\n",
        "    (datetime.date), (datetime.date), (str)->int\n",
        "    Calculates the length of stay in whole days based on admit date, discharge date, and diagnosis.\n",
        "\n",
        "    Parameters:\n",
        "    admit_date (str): The admit date in 'YYYY-MM-DD' format.\n",
        "    discharge_date (str): The discharge date in 'YYYY-MM-DD' format.\n",
        "    diagnosis (str): The diagnosis for the patient.\n",
        "\n",
        "    Returns:\n",
        "    int: The length of stay in whole days.\n",
        "\n",
        "\n",
        "    >>> los(date(2019,1,3), date(2019,1,8), \"COPD\")\n",
        "    5\n",
        "\n",
        "    >>> los(date(2020,1,5), date(2020,1,8), \"Observation\")\n",
        "    0\n",
        "    \"\"\"\n",
        "    if(diagnosis!= \"Observation\"):\n",
        "      loss=(dischargedate-admitdate).days\n",
        "      return loss\n",
        "    else:\n",
        "      return 0\n",
        "\n",
        "### END SOLUTION"
      ]
    },
    {
      "cell_type": "code",
      "execution_count": 8,
      "metadata": {
        "id": "7VsVtX3rPM42"
      },
      "outputs": [],
      "source": [
        "assert los(date(2019,1,3), date(2019,1,8), \"COPD\") == 5\n",
        "assert los(date(2020,1,5), date(2020,1,8), \"Observation\") == 0"
      ]
    },
    {
      "cell_type": "code",
      "execution_count": 9,
      "metadata": {
        "id": "YoDG1lLNPM42",
        "outputId": "3e183a56-4cde-4dbb-ecde-d5071e5a130c",
        "colab": {
          "base_uri": "https://localhost:8080/"
        }
      },
      "outputs": [
        {
          "output_type": "stream",
          "name": "stdout",
          "text": [
            "Finding tests in NoName\n",
            "Trying:\n",
            "    los(date(2019,1,3), date(2019,1,8), \"COPD\")\n",
            "Expecting:\n",
            "    5\n",
            "ok\n",
            "Trying:\n",
            "    los(date(2020,1,5), date(2020,1,8), \"Observation\")\n",
            "Expecting:\n",
            "    0\n",
            "ok\n"
          ]
        }
      ],
      "source": [
        "import doctest\n",
        "doctest.run_docstring_examples(los, globals(), verbose=True)"
      ]
    },
    {
      "cell_type": "code",
      "execution_count": 10,
      "metadata": {
        "id": "3gf1wDZBPM43",
        "outputId": "b0ae0f9f-dd03-4968-8fc7-b3005f741135",
        "colab": {
          "base_uri": "https://localhost:8080/"
        }
      },
      "outputs": [
        {
          "output_type": "stream",
          "name": "stdout",
          "text": [
            "5\n",
            "4\n",
            "1\n",
            "0\n",
            "0\n"
          ]
        }
      ],
      "source": [
        "encounters = {\n",
        "    \"E1234\": { \"admit\": date(2019,1,3), \"diagnosis\": \"COPD\", \"discharge\": date(2019,1,8) },\n",
        "    \"E8342\": { \"admit\": date(2019,1,5), \"diagnosis\": \"Hypertension\", \"discharge\": date(2019,1,9) },\n",
        "    \"E9231\": { \"admit\": date(2019,1,12), \"diagnosis\": \"Anxiety\", \"discharge\": date(2019,1,13) },\n",
        "    \"E8333\": { \"admit\": date(2019,1,15), \"diagnosis\": \"Observation\", \"discharge\": date(2019,1,16) },\n",
        "    \"E3342\": { \"admit\": date(2019,1,4), \"diagnosis\": \"Anxiety\", \"discharge\": date(2019,1,4)}\n",
        "}\n",
        "\n",
        "\n",
        "for encid, visit in encounters.items():\n",
        "    print(los(visit['admit'],visit['discharge'],visit['diagnosis']))\n",
        "\n",
        "# Your output should be\n",
        "# 5\n",
        "# 4\n",
        "# 1\n",
        "# 0\n",
        "# 0"
      ]
    },
    {
      "cell_type": "markdown",
      "metadata": {
        "id": "tks4B4RYPM43"
      },
      "source": [
        "---\n",
        "---\n",
        "\n",
        "### 25.4 Average Length of Stay\n",
        "\n",
        "Create a function called `average_los` that returns the average of the LOS for the encounters in the provided dictionary. The encounters must be a dictionary that contains dictionaries that each contain at least an admit date and a discharge date.\n",
        "    \n",
        "If the length of stay of any individual encounter is 0, then it will not be counted toward the average."
      ]
    },
    {
      "cell_type": "code",
      "execution_count": 11,
      "metadata": {
        "id": "KsrLIuF1PM44"
      },
      "outputs": [],
      "source": [
        "\n",
        "### BEGIN SOLUTION\n",
        "from datetime import date\n",
        "\n",
        "def average_los(encounters):\n",
        "  \"\"\"\n",
        "  Calculate the average length of stay (LOS) for valid encounters.\n",
        "\n",
        "  Parameters:\n",
        "  encounters (dict):A dictionary of encounters, where each entry is a dictionary with 'admit' and 'discharge' date fields.\n",
        "\n",
        "  Returns:\n",
        "  float: The average LOS for valid encounters (encounters with non-zero LOS).\n",
        "  \"\"\"\n",
        "  total_los = 0\n",
        "  count_valid_encounters = 0\n",
        "\n",
        "  for encid, visit in encounters.items():\n",
        "    admit_date = visit.get('admit')\n",
        "    discharge_date = visit.get('discharge')\n",
        "\n",
        "    #Check if the LOS is non-zero and both admit and discharge dates exist\n",
        "    if admit_date and discharge_date and admit_date != discharge_date:\n",
        "      los_days = (discharge_date - admit_date).days\n",
        "      total_los += los_days\n",
        "      count_valid_encounters += 1\n",
        "\n",
        "  if count_valid_encounters == 0:\n",
        "    return 0.0\n",
        "  else:\n",
        "    return total_los / count_valid_encounters\n",
        "### END SOLUTION"
      ]
    },
    {
      "cell_type": "code",
      "execution_count": 12,
      "metadata": {
        "id": "0Hb_J6PxPM44"
      },
      "outputs": [],
      "source": [
        "from datetime import date\n",
        "encounters = {\n",
        "    \"E1234\": { \"admit\": date(2019,1,3), \"diagnosis\": \"COPD\", \"discharge\": date(2019,1,8) },\n",
        "    \"E8342\": { \"admit\": date(2019,1,5), \"diagnosis\": \"Hypertension\", \"discharge\": date(2019,1,9) },\n",
        "    \"E9231\": { \"admit\": date(2019,1,12), \"diagnosis\": \"Anxiety\", \"discharge\": date(2019,1,13) },\n",
        "    \"E8333\": { \"admit\": date(2019,1,15), \"diagnosis\": \"Observation\", \"discharge\": date(2019,1,16) },\n",
        "    \"E3342\": { \"admit\": date(2019,1,4), \"diagnosis\": \"Anxiety\", \"discharge\": date(2019,1,4)}\n",
        "}\n"
      ]
    },
    {
      "cell_type": "code",
      "execution_count": 13,
      "metadata": {
        "id": "-Ob3YeDwPM44",
        "outputId": "1f81af9b-73e3-4356-cc96-371f01b53f1c",
        "colab": {
          "base_uri": "https://localhost:8080/"
        }
      },
      "outputs": [
        {
          "output_type": "stream",
          "name": "stdout",
          "text": [
            "Finding tests in NoName\n"
          ]
        }
      ],
      "source": [
        "import doctest\n",
        "doctest.run_docstring_examples(average_los, globals(), verbose=True)"
      ]
    },
    {
      "cell_type": "markdown",
      "metadata": {
        "id": "C_FtvPEuPM45"
      },
      "source": [
        "---\n",
        "\n",
        "### 25.5 Celsius to Farenheit\n",
        "\n",
        "Write your own function called `c_to_f` that converts degrees Celsius to degrees Farenheit.  Include in your solution a series of doc tests that can verify the conversion using inputs of 100, 0, and 37 degrees Celsius"
      ]
    },
    {
      "cell_type": "code",
      "execution_count": 14,
      "metadata": {
        "id": "YaAuIhqzPM45"
      },
      "outputs": [],
      "source": [
        "### BEGIN SOLUTION\n",
        "def c_to_f(celsius):\n",
        "    \"\"\"\n",
        "    This program will help to converts Celsius to Fahrenheit.\n",
        "\n",
        "    Parameters:\n",
        "    celsius (float): Temperature in degrees Celsius.\n",
        "\n",
        "    Returns:\n",
        "    float: Temperature in degrees Fahrenheit.\n",
        "    \"\"\"\n",
        "    fahrenheit = (celsius * 9/5) + 32\n",
        "    return fahrenheit\n",
        "\n",
        "# Doc tests\n",
        "\"\"\"\n",
        ">>> c_to_f(100)\n",
        "212.0\n",
        "\n",
        ">>> c_to_f(0)\n",
        "32.0\n",
        "\n",
        ">>> c_to_f(37)\n",
        "98.6\n",
        "\"\"\"\n",
        "\n",
        "# Run the doc tests\n",
        "if __name__ == \"__main__\":\n",
        "    import doctest\n",
        "    doctest.testmod()\n",
        "\n",
        "### END SOLUTION"
      ]
    },
    {
      "cell_type": "code",
      "execution_count": 15,
      "metadata": {
        "id": "EOwQij34PM45",
        "outputId": "bf9bf693-cce1-4ef7-92cd-1d96af16de05",
        "colab": {
          "base_uri": "https://localhost:8080/"
        }
      },
      "outputs": [
        {
          "output_type": "stream",
          "name": "stdout",
          "text": [
            "Finding tests in NoName\n"
          ]
        }
      ],
      "source": [
        "import doctest\n",
        "doctest.run_docstring_examples(c_to_f, globals(), verbose=True)"
      ]
    },
    {
      "cell_type": "code",
      "execution_count": 16,
      "metadata": {
        "id": "bYeGhrMlPM45"
      },
      "outputs": [],
      "source": [
        "def test_c_to_f():\n",
        "    \"\"\"\n",
        "    >>> c_to_f(100)\n",
        "    212.0\n",
        "    >>> c_to_f(0)\n",
        "    32.0\n",
        "    >>> c_to_f(37)\n",
        "    98.6\n",
        "    \"\"\"\n",
        "    pass\n"
      ]
    },
    {
      "cell_type": "code",
      "source": [],
      "metadata": {
        "id": "kF2d39nTUNI0"
      },
      "execution_count": 16,
      "outputs": []
    },
    {
      "cell_type": "markdown",
      "metadata": {
        "id": "END0QPo7PM45"
      },
      "source": [
        "---\n",
        "\n",
        "## Check your work above\n",
        "\n",
        "If you didn't get them all correct, take a few minutes to think through those that aren't correct.\n",
        "\n",
        "\n",
        "## Submitting Your Work\n",
        "\n",
        "In order to submit your work, you'll need to use the `git` command line program to **add** your homework file (this file) to your local repository, **commit** your changes to your local repository, and then **push** those changes up to github.com.  From there, I'll be able to **pull** the changes down and do my grading.  I'll provide some feedback, **commit** and **push** my comments back to you.  Next week, I'll show you how to **pull** down my comments.\n",
        "\n",
        "First run through everything one last time and submit your work:\n",
        "1. Use the `Kernel` -> `Restart Kernel and Run All Cells` menu option to run everything from top to bottom and stop here.\n",
        "2. Then open a new command line by clicking the `+` icon above the file list and chosing `Terminal`\n",
        "3. At the command line in the new Terminal, follow these steps:\n",
        "  1. Change directories to your project folder and the week03 subfolder (`cd <folder name>`)\n",
        "  2. Make sure your project folders are up to date with github.com (`git pull`)\n",
        "  3. Add the homework files for this week (`git add <file name>`)\n",
        "  4. Commit your changes (`git commit -a -m \"message\"`)\n",
        "  5. Push your changes (`git push`)\n",
        "  \n",
        "If anything fails along the way with this submission part of the process, let me know.  I'll help you troubleshoort."
      ]
    }
  ],
  "metadata": {
    "celltoolbar": "Create Assignment",
    "kernelspec": {
      "display_name": "Python 3",
      "language": "python",
      "name": "python3"
    },
    "language_info": {
      "codemirror_mode": {
        "name": "ipython",
        "version": 3
      },
      "file_extension": ".py",
      "mimetype": "text/x-python",
      "name": "python",
      "nbconvert_exporter": "python",
      "pygments_lexer": "ipython3",
      "version": "3.6.7"
    },
    "colab": {
      "provenance": [],
      "include_colab_link": true
    }
  },
  "nbformat": 4,
  "nbformat_minor": 0
}